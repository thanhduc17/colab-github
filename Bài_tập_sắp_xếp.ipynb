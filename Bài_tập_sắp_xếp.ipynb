{
  "nbformat": 4,
  "nbformat_minor": 0,
  "metadata": {
    "colab": {
      "name": "Bài tập sắp xếp.ipynb",
      "provenance": [],
      "authorship_tag": "ABX9TyNs0jwxlwTTVS8aurIQUY+/",
      "include_colab_link": true
    },
    "kernelspec": {
      "name": "python3",
      "display_name": "Python 3"
    },
    "language_info": {
      "name": "python"
    }
  },
  "cells": [
    {
      "cell_type": "markdown",
      "metadata": {
        "id": "view-in-github",
        "colab_type": "text"
      },
      "source": [
        "<a href=\"https://colab.research.google.com/github/thanhduc17/colab-github/blob/main/B%C3%A0i_t%E1%BA%ADp_s%E1%BA%AFp_x%E1%BA%BFp.ipynb\" target=\"_parent\"><img src=\"https://colab.research.google.com/assets/colab-badge.svg\" alt=\"Open In Colab\"/></a>"
      ]
    },
    {
      "cell_type": "markdown",
      "metadata": {
        "id": "ckoB8pwW5j1E"
      },
      "source": [
        "Bài 1: Viết chương trình nhập vào từ bàn phím một danh sách gồm 10 số nguyên và thực hiện các\n",
        "yêu cầu sau:\n",
        "- Sắp xếp danh sách trên theo chiều tăng dần\n",
        "- In kết quả ra màn hình"
      ]
    },
    {
      "cell_type": "code",
      "metadata": {
        "id": "d-NRiUx20yD9",
        "colab": {
          "base_uri": "https://localhost:8080/"
        },
        "outputId": "4bb2b47e-6b44-4d9a-cb2a-7b482418e14a"
      },
      "source": [
        "\n",
        "b = [5,6,9,8,1,3,9,2,8,6,5]\n",
        "print(b)\n",
        "for c in range(len(b)):\n",
        "    for d in range(c + 1, len(b)):\n",
        "        if b[c] > b[d]:\n",
        "            b[c], b[d] = b[d], b[c]\n",
        "print(\"Danh sách sắp xếp theo thứ tự tăng dần: \", b)"
      ],
      "execution_count": 127,
      "outputs": [
        {
          "output_type": "stream",
          "name": "stdout",
          "text": [
            "[5, 6, 9, 8, 1, 3, 9, 2, 8, 6, 5]\n",
            "Danh sách sắp xếp theo thứ tự tăng dần:  [1, 2, 3, 5, 5, 6, 6, 8, 8, 9, 9]\n"
          ]
        }
      ]
    },
    {
      "cell_type": "markdown",
      "metadata": {
        "id": "Ccnv4tPr8V1Z"
      },
      "source": [
        "Bài 2: Viết chương trình thực hiện các yêu cầu sau:\n",
        "- Xây dựng hàm có tên nhap_danh_sach_so_nguyen(n), trong đó:\n",
        "\n",
        "Tham số đầu vào n là số phần tử của danh sách;\n",
        "\n",
        "Hàm này trả về một danh sách gồm n số nguyên được nhập vào từ bàn phím\n",
        "\n",
        "- Xây dựng hàm có tên sap_xep_danh_sach(x), trong đó:\n",
        "\n",
        "Tham số đầu vào x là một danh sách các số nguyên\n",
        "\n",
        "Hàm này trả về một danh sách các số nguyên được sắp xếp theo chiều tăng dần\n",
        "\n",
        "- Chương trình chính (__main__) gọi thực thi 2 hàm nêu trên và in kết quả sắp xếp ra màn\n",
        "hình."
      ]
    },
    {
      "cell_type": "code",
      "metadata": {
        "id": "6KAs_6t98QNA",
        "colab": {
          "base_uri": "https://localhost:8080/"
        },
        "outputId": "0961062b-5c2a-4d30-f2b7-2d59b141576e"
      },
      "source": [
        "def nhap_danh_sach_so_nguyen(n) :\n",
        "    count = 0\n",
        "    list1 = []\n",
        "    while(count < n):\n",
        "        num =int(input(\"Nhập phần tử: \"))\n",
        "        list1.append(num)\n",
        "        count += 1\n",
        "    return list1\n",
        "\n",
        "def sap_xep_danh_sach(x):\n",
        "    for i in range (len(x)):\n",
        "        for j in range (i+1, len(x)):\n",
        "            if x[i] > x[j]:\n",
        "                x[i], x[j] = x[j], x[i]\n",
        "    return x\n",
        "\n",
        "def main():\n",
        "    n = int(input(\"Mời nhập số phần tử:\"))\n",
        "    p = nhap_danh_sach_so_nguyen(n) \n",
        "    s = sap_xep_danh_sach(p)\n",
        "                          \n",
        "    print(\"Danh sách ban đầu:\",p)\n",
        "    print(\"Danh sách sắp xếp theo chiều tăng dần: \",s)\n",
        "if __name__== \"__main__\":\n",
        "    main()"
      ],
      "execution_count": 126,
      "outputs": [
        {
          "output_type": "stream",
          "name": "stdout",
          "text": [
            "Mời nhập số phần tử:4\n",
            "Nhập phần tử: 6\n",
            "Nhập phần tử: 3\n",
            "Nhập phần tử: 9\n",
            "Nhập phần tử: 2\n",
            "Danh sách ban đầu: [2, 3, 6, 9]\n",
            "Danh sách sắp xếp theo chiều tăng dần:  [2, 3, 6, 9]\n"
          ]
        }
      ]
    },
    {
      "cell_type": "markdown",
      "metadata": {
        "id": "gwidmmKyKn_q"
      },
      "source": [
        "Bài 3: Viết chương trình nhập vào từ bàn phím một danh sách các số thực, theo các yeu cầu sau:\n",
        "- Sau khi nhập mỗi số thực từ bàn phím, chương trình hỏi người dùng có muốn tiếp tục nhập\n",
        "không. Nếu người dùng gõ ký tự n hoặc N thì kết thúc quá trình nhập;\n",
        "- Sắp xếp danh sách các số thực tren theo chiều giảm dần;\n",
        "- In kết quả ra màn hình."
      ]
    },
    {
      "cell_type": "code",
      "metadata": {
        "id": "ibAlBSVK5jic",
        "colab": {
          "base_uri": "https://localhost:8080/"
        },
        "outputId": "a462ced1-46d0-4c7b-d17b-69380e14dc9f"
      },
      "source": [
        "\n",
        "list2=[]\n",
        "check=\"\"\n",
        "while (check !=\"N\") and (check!=\"n\"):\n",
        "  n=float(input(\"Mời nhập phần tử:\"))\n",
        "  list2.append(n)\n",
        "  print(\"Bạn có muốn tiếp tục hay không? \\nMời nhập n hoặc N để dừng!\")\n",
        "  check=input(\"mời nhập:\")\n",
        "print(\"Danh sách đã nhập là:\",list2)\n",
        "\n",
        "for i in range(len(list2)):\n",
        "  for j in range(i+1,len(list2)):\n",
        "    if list2[i]<list2[j]:\n",
        "      list2[i],list2[j]=list2[j],list2[i]\n",
        "print(\"Danh sách sắp xép theo chiều giảm dần là:\",list2)"
      ],
      "execution_count": 125,
      "outputs": [
        {
          "output_type": "stream",
          "name": "stdout",
          "text": [
            "Mời nhập phần tử:5\n",
            "Bạn có muốn tiếp tục hay không? \n",
            "Mời nhập n hoặc N để dừng!\n",
            "mời nhập:n\n",
            "Danh sách đã nhập là: [5.0]\n",
            "Danh sách sắp xép theo chiều giảm dần là: [5.0]\n"
          ]
        }
      ]
    },
    {
      "cell_type": "markdown",
      "metadata": {
        "id": "9uP3rj0ZYqtC"
      },
      "source": [
        "Bài 4: Viết chương trình thực hiện các yêu cầu sau:\n",
        "- Xây dựng hàm nhap_danh_sach_so_thuc( ) thỏa mãn các yêu cầu sau:\n",
        "\n",
        " Sau khi nhập mỗi số thực từ bàn phím, chương trình hỏi người dùng có muốn tiếp\n",
        "tục nhập không. Nếu người dùng gõ ký tự n hoặc N thì kết thúc quá trình nhập;\n",
        "\n",
        " Hàm trả về danh sách các số thực đã nhập.\n",
        "- Xây dựng hàm sap_xep_danh_sach_so_thuc(x), với:\n",
        "\n",
        " Tham số đầu vào x là một danh sách các số thực;\n",
        "\n",
        " Hàm này trả về một danh sách các số thực được sắp xếp theo chiều giảm dần\n",
        "\n",
        "- Chương trình chính (__main__) gọi thực thi 2 hàm nêu trên và in kết quả sắp xếp ra màn\n",
        "hình."
      ]
    },
    {
      "cell_type": "code",
      "metadata": {
        "colab": {
          "base_uri": "https://localhost:8080/"
        },
        "id": "5EvP83HwYyQJ",
        "outputId": "039d0713-62be-4077-cf7f-55a2be0100a5"
      },
      "source": [
        "def nhap_danh_sach_so_thuc():\n",
        "    check=\"\"\n",
        "    list3=[]\n",
        "    while (check !=\"N\") and (check!=\"n\"):\n",
        "      b = float(input(\"Mời nhập phần tử:\"))\n",
        "      list3.append(b)\n",
        "      print(\"Bạn có muốn tiếp tục hay không? \\nNhập n hoặc N để dừng!\")\n",
        "      check=input(\"mời nhập:\")\n",
        "  \n",
        "    return list3\n",
        "def sap_xep_danh_sach_so_thuc(x):\n",
        "  for i in range(len(x)):\n",
        "    for j in range(i+1,len(x)):\n",
        "      if x[i]<x[j]:\n",
        "        x[i],x[j]=x[j],x[i]\n",
        "  return x\n",
        "\n",
        "def main():\n",
        "  d = nhap_danh_sach_so_thuc()\n",
        "  c = sap_xep_danh_sach_so_thuc(d)\n",
        "\n",
        "  print(\"Danh sách đã nhập là:\",d)\n",
        "  print(\"Danh sách sắp xép theo chiều giảm dần là:\",c)\n",
        "if __name__== \"__main__\":\n",
        "    main()\n"
      ],
      "execution_count": 124,
      "outputs": [
        {
          "output_type": "stream",
          "name": "stdout",
          "text": [
            "Mời nhập phần tử:5\n",
            "Bạn có muốn tiếp tục hay không? \n",
            "Nhập n hoặc N để dừng!\n",
            "mời nhập:y\n",
            "Mời nhập phần tử:6\n",
            "Bạn có muốn tiếp tục hay không? \n",
            "Nhập n hoặc N để dừng!\n",
            "mời nhập:n\n",
            "Danh sách đã nhập là: [6.0, 5.0]\n",
            "Danh sách sắp xép theo chiều giảm dần là: [6.0, 5.0]\n"
          ]
        }
      ]
    },
    {
      "cell_type": "markdown",
      "metadata": {
        "id": "xkAdy-PyeD4k"
      },
      "source": [
        "Bài 5: Viết chương trình thực hiện các yêu cầu sau:\n",
        "- Sinh ngẫu nhiên 1 danh sách số nguyên gồm n phần tử. Trong đó, n được nhập vào từ bàn\n",
        "phím và số nguyên sinh ra nằm trong khoảng từ 0 đến max_value. Giá trị max_value được\n",
        "nhập vào từ bàn phím;\n",
        "- Hỏi người dùng lựa chọn sắp xếp danh sách trên theo chiều tăng dần hay giảm dần và sắp\n",
        "xếp danh sách theo lựa chọn của người dùng;\n",
        "- In kết quả sắp xếp ra màn hình."
      ]
    },
    {
      "cell_type": "code",
      "metadata": {
        "colab": {
          "base_uri": "https://localhost:8080/"
        },
        "id": "bScFFNENeISc",
        "outputId": "e4e81910-fef7-4e30-e9e7-1969b63d6c00"
      },
      "source": [
        "import random\n",
        "n=int(input(\"Mời nhập số phần tử:\"))\n",
        "max_value=int(input(\"Mời nhập giới hạn:\"))\n",
        "list4=[]\n",
        "i=0\n",
        "while i<n:\n",
        "  x= random.randrange(0,max_value)\n",
        "  list4.append(x)\n",
        "  i+=1\n",
        "print(\"Danh sách ngẫu nhiên:\",list4)\n",
        "\n",
        "check=input(\"Nhấn phím 1 để sắp xếp danh sách tăng dần, phím 2 giảm dần:\")\n",
        "if (check==\"1\"):\n",
        "    for j in range(len(lst)):\n",
        "      for k in range(j+1,len(lst)):\n",
        "        if (list4[j]>list4[k]):\n",
        "            list4[j],lst[k]=list4[k],list4[j]\n",
        "    print(\"Danh sách sắp xếp theo chiều tăng dần là:\",list4)\n",
        "\n",
        "if (check ==\"2\"):\n",
        "    for j in range(len(list4)):\n",
        "      for k in range(j+1,len(list4)):\n",
        "        if (list4[j]<list4[k]):\n",
        "            list4[j],list4[k]=list4[k],list4[j]\n",
        "    print(\"Danh sách sắp xếp theo chiều giảm dần là:\",list4)"
      ],
      "execution_count": 122,
      "outputs": [
        {
          "output_type": "stream",
          "name": "stdout",
          "text": [
            "Mời nhập số phần tử:4\n",
            "Mời nhập giới hạn:54\n",
            "Danh sách ngẫu nhiên: [46, 35, 28, 41]\n",
            "Nhấn phím 1 để sắp xếp danh sách tăng dần, phím 2 giảm dần:2\n",
            "Danh sách sắp xếp theo chiều giảm dần là: [46, 41, 35, 28]\n"
          ]
        }
      ]
    },
    {
      "cell_type": "markdown",
      "metadata": {
        "id": "G50OV_esjuAu"
      },
      "source": [
        "Bài 6: Viết chương trình thực hiện các yêu cầu sau:\n",
        "- Xây dựng hàm sinh_ngau_nhien_danh_sach_so_nguyen( ), thực hiện các thao tác sau:\n",
        "\n",
        " Sinh ngẫu nhiên 1 danh sách số nguyên gồm n phần tử;\n",
        "\n",
        " Trong đó, n được nhập vào từ bàn phím và số nguyên sinh ra nằm trong khoảng từ\n",
        " đến max_value;\n",
        "\n",
        " Giá trị max_value được nhập vào từ bàn phím;\n",
        " Hàm này trả về danh sách các số nguyên được sinh ngẫu nhiên ở trên.\n",
        "- Xây dựng hàm sap_xep_giam_dan(x), trong đó:\n",
        "\n",
        " Tham số đầu vào x là một danh sách các số nguyên;\n",
        "\n",
        " Hàm này trả về một danh sách các số nguyên được sắp xếp theo chiều giảm dần.\n",
        "- Xây dựng hàm sap_xep_tang_dan(x), trong đó:\n",
        "\n",
        " Tham số đầu vào x là một danh sách các số nguyên;\n",
        "\n",
        " Hàm này trả về một danh sách các số nguyên được sắp xếp theo chiều tăng dần.\n",
        " \n",
        "- Chương trình chính (__main__) gọi thực hiện các hàm trên và in kết quả ra màn hình."
      ]
    },
    {
      "cell_type": "code",
      "metadata": {
        "colab": {
          "base_uri": "https://localhost:8080/"
        },
        "id": "AXd6JKfpkCzO",
        "outputId": "88e12ab5-3d92-4dcf-d014-b9ff4000b64d"
      },
      "source": [
        "def sinh_ngau_nhien_danh_sach_so_nguyen():\n",
        "  n=int(input(\"Mời nhập số phần tử:\"))\n",
        "  max_value=int(input(\"Mời nhập giới hạn:\"))\n",
        "  l1=[]\n",
        "  i=0\n",
        "  while i<n:\n",
        "    x= random.randrange(0,max_value)\n",
        "    l1.append(x)\n",
        "    i+=1\n",
        "  print(\"Danh sách ngẫu nhiên:\",l1)\n",
        "  return l1\n",
        "\n",
        "def sap_xep_tang_dan(x):\n",
        "    for i in range(len(x)):\n",
        "      for j in range(i+1,len(x)):\n",
        "        if (x[i]>x[j]):\n",
        "          x[i],x[j]=x[j],x[i]\n",
        "    print(\"Danh sách sắp xếp tăng dần là:\",x)\n",
        "    return x\n",
        "\n",
        "def sap_xep_giam_dan(y):\n",
        "  for a in range(len(y)):\n",
        "    for b in range(a+1,len(y)):\n",
        "      if (y[a]<y[b]):\n",
        "        y[a],y[b]=y[b],y[a]\n",
        "  print(\"Danh sách sắp xếp giảm dần là:\",y)\n",
        "  return y\n",
        "\n",
        "\n",
        "def main():\n",
        "  d = sinh_ngau_nhien_danh_sach_so_nguyen()\n",
        "  sap_xep_tang_dan(d)\n",
        "  sap_xep_giam_dan(d)\n",
        "  \n",
        "if __name__ == \"__main__\":\n",
        "  main()\n",
        "    "
      ],
      "execution_count": 121,
      "outputs": [
        {
          "output_type": "stream",
          "name": "stdout",
          "text": [
            "Mời nhập số phần tử:4\n",
            "Mời nhập giới hạn:78\n",
            "Danh sách ngẫu nhiên: [16, 74, 25, 37]\n",
            "Danh sách sắp xếp tăng dần là: [16, 25, 37, 74]\n",
            "Danh sách sắp xếp giảm dần là: [74, 37, 25, 16]\n"
          ]
        }
      ]
    }
  ]
}