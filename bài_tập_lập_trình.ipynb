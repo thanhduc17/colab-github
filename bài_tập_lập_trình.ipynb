{
  "nbformat": 4,
  "nbformat_minor": 0,
  "metadata": {
    "colab": {
      "name": "bài_tập_lập_trình.ipynb",
      "provenance": [],
      "authorship_tag": "ABX9TyNVrsNM7WPJgiUOvOu0IKq8",
      "include_colab_link": true
    },
    "kernelspec": {
      "name": "python3",
      "display_name": "Python 3"
    },
    "language_info": {
      "name": "python"
    }
  },
  "cells": [
    {
      "cell_type": "markdown",
      "metadata": {
        "id": "view-in-github",
        "colab_type": "text"
      },
      "source": [
        "<a href=\"https://colab.research.google.com/github/thanhduc17/colab-github/blob/main/b%C3%A0i_t%E1%BA%ADp_l%E1%BA%ADp_tr%C3%ACnh.ipynb\" target=\"_parent\"><img src=\"https://colab.research.google.com/assets/colab-badge.svg\" alt=\"Open In Colab\"/></a>"
      ]
    },
    {
      "cell_type": "markdown",
      "metadata": {
        "id": "WPRdFXSIGkKf"
      },
      "source": [
        "BÀI TẬP LẬP TRÌNH CHƯƠNG 2\n",
        "\n",
        "Bài 1: Lập trình nhập vào từ bàn phím 2 số nguyên và tính:\n",
        "\n",
        "1.Tổng của 2 số\n",
        "\n",
        "2.Tích của 2 số\n",
        "\n",
        "3.Hiệu của 2 số\n",
        "\n",
        "4.Phép chia lấy phần dư của 2 số\n",
        "\n",
        "5.Phép chia lấy phần nguyên của 2 số\n",
        "\n",
        "Kết quả xuất ra màn hình"
      ]
    },
    {
      "cell_type": "code",
      "metadata": {
        "colab": {
          "base_uri": "https://localhost:8080/"
        },
        "id": "zUI05Kdodi67",
        "outputId": "4ff015d3-13f9-46bd-b461-e06f741850ce"
      },
      "source": [
        "\n",
        "a = int (input (\"a = \"))\n",
        "b = int (input (\"b = \"))\n",
        "\n",
        "c = a + b\n",
        "d = a - b\n",
        "e = a * b\n",
        "f = a % b \n",
        "g = a // b\n",
        "print (\"a + b =\",c)\n",
        "print (\"a - b =\",d)\n",
        "print (\"a * b =\",e)\n",
        "print (\"phép chia lấy phần dư: a % b =\",f)\n",
        "print (\"phép chia lấy phần nguyên: a // b =\",g)"
      ],
      "execution_count": 5,
      "outputs": [
        {
          "output_type": "stream",
          "name": "stdout",
          "text": [
            "a = 9\n",
            "b = 4\n",
            "a + b = 13\n",
            "a - b = 5\n",
            "a * b = 36\n",
            "phép chia lấy phần dư: a % b = 1\n",
            "phép chia lấy phần nguyên: a // b = 2\n"
          ]
        }
      ]
    },
    {
      "cell_type": "markdown",
      "metadata": {
        "id": "XVaikW9EHOHd"
      },
      "source": [
        "Bài 2: Lập trình nhập vào từ bàn phím 2 số thực và tính:\n",
        "\n",
        "Tổng của 2 số\n",
        "\n",
        "Tích của 2 số\n",
        "\n",
        "Hiệu của 2 số\n",
        "\n",
        "Thương của 2 số\n",
        "\n",
        "Kết quả xuất ra màn hình"
      ]
    },
    {
      "cell_type": "markdown",
      "metadata": {
        "id": "X1JmQSXuHlD0"
      },
      "source": [
        "Bài 3: (Sử dụng các hàm toán học) Nhập một số từ bàn phím và tính:\n",
        "\n",
        "Trị tuyệt đối\n",
        "\n",
        "Lấy phần nguyên của số\n",
        "\n",
        "Chuyển đổi thành số thực\n",
        "\n",
        "(nhập thêm 1 số từ bàn phím) và tính lũy thừa $ x^y $\n",
        "\n",
        "Tính căn bậc hai\n",
        "\n",
        "Kết quả xuất ra màn hình"
      ]
    },
    {
      "cell_type": "code",
      "metadata": {
        "colab": {
          "base_uri": "https://localhost:8080/"
        },
        "id": "R-BLb9a2j-nQ",
        "outputId": "a8081485-b0cb-48d0-9b34-b0be3de53700"
      },
      "source": [
        "x = float (input (\"x = \"))\n",
        "y = float (input (\"y = \"))\n",
        "\n",
        "z = x + y\n",
        "i = x - y \n",
        "j = x * y \n",
        "k = x / y\n",
        "\n",
        "print (\"x + y =\",z)\n",
        "print (\"x - y =\",i)\n",
        "print (\"x * y =\",j)\n",
        "print (\" x / y =\",k)"
      ],
      "execution_count": 6,
      "outputs": [
        {
          "output_type": "stream",
          "name": "stdout",
          "text": [
            "x = 8\n",
            "y = 8\n",
            "x + y = 16.0\n",
            "x - y = 0.0\n",
            "x * y = 64.0\n",
            " x / y = 1.0\n"
          ]
        }
      ]
    },
    {
      "cell_type": "code",
      "metadata": {
        "colab": {
          "base_uri": "https://localhost:8080/"
        },
        "id": "2UmZlLWHnGVa",
        "outputId": "469c8950-d8ed-45aa-94d4-3dcddbbb995c"
      },
      "source": [
        "a = float(input (\"a = \")) \n",
        "print(\"giá trị tuyệt đối của \",a,\"là:\",abs(a)) \n",
        "print(\"phần nguyên của \",a,\"la:\",int(a)) \n",
        "print(\"số thực cua\",a,\"là:\",float(a))\n",
        "\n",
        "b = int (input (\"b = \"))\n",
        "c = a ** b\n",
        "print (\"lũy thừa của \",a,\"là\",c) \n",
        "import math\n",
        "print(\"căn bậc hai của\",a,\"la:\",math.sqrt(a))\n",
        "\n",
        "\n"
      ],
      "execution_count": 4,
      "outputs": [
        {
          "output_type": "stream",
          "name": "stdout",
          "text": [
            "a = 12.5\n",
            "giá trị tuyệt đối của  12.5 là: 12.5\n",
            "phần nguyên của  12.5 la: 12\n",
            "số thực cua 12.5 là: 12.5\n",
            "b = 2\n",
            "lũy thừa của  12.5 là 156.25\n",
            "căn bậc hai của 12.5 la: 3.5355339059327378\n"
          ]
        }
      ]
    },
    {
      "cell_type": "markdown",
      "metadata": {
        "id": "GIJA7qY4E9f3"
      },
      "source": [
        "Bài 4: Nhập 2 số từ bàn phím và thực hiện các phép so sánh sau giữa 2 số:\n",
        "\n",
        " 1.>= \n",
        "\n",
        " 2.<=\n",
        "\n",
        " 3.> \n",
        "\n",
        " 4.< \n",
        "\n",
        " 5.!=\n",
        "\n",
        "Kết quả xuất ra màn hình"
      ]
    },
    {
      "cell_type": "code",
      "metadata": {
        "colab": {
          "base_uri": "https://localhost:8080/"
        },
        "id": "NWKsWotPwX13",
        "outputId": "7fb75808-548e-4edc-c44f-50258ce256cf"
      },
      "source": [
        "x = input(\"mời nhập số:x = \")\n",
        "y = input(\"mời nhập số:y = \")\n",
        "print(\"kết quả so sánh của \", x ,\" >= \", y ,\"la\",x >= y)\n",
        "print(\"kết quả so sánh của \", x ,\" <= \", y ,\"la\", x <= y)\n",
        "print(\"kết quả so sánh của \", x ,\" > \", y ,x > y)\n",
        "print(\"kết quả so sánh của \", x ,\" < \", y ,x < y)\n",
        "print(\"kết quả so sánh của \", x ,\" != \", y ,x != y)"
      ],
      "execution_count": 7,
      "outputs": [
        {
          "output_type": "stream",
          "name": "stdout",
          "text": [
            "mời nhập số:x = 12\n",
            "mời nhập số:y = 7\n",
            "kết quả so sánh của  12  >=  7 la False\n",
            "kết quả so sánh của  12  <=  7 la True\n",
            "kết quả so sánh của  12  >  7 False\n",
            "kết quả so sánh của  12  <  7 True\n",
            "kết quả so sánh của  12  !=  7 True\n"
          ]
        }
      ]
    },
    {
      "cell_type": "markdown",
      "metadata": {
        "id": "PxCoyG5OCrVq"
      },
      "source": [
        "Bài 5: Nhập 1 chuỗi ký tự từ bàn phím:\n",
        "\n",
        "1.Chuyển thành chuỗi in hoa\n",
        "\n",
        "2.Chuyển thành chuỗi in thường\n",
        "\n",
        "Kết quả xuất ra màn hình"
      ]
    },
    {
      "cell_type": "code",
      "metadata": {
        "colab": {
          "base_uri": "https://localhost:8080/"
        },
        "id": "DNwZlpy3NNTA",
        "outputId": "fbc10db6-0b02-464d-e15a-ba369a034533"
      },
      "source": [
        "val = input(\"nhập chuỗi ký tự:\")\n",
        "print(\"in hoa:\",val.upper())\n",
        "print(\"in thường:\",val.lower())"
      ],
      "execution_count": 8,
      "outputs": [
        {
          "output_type": "stream",
          "name": "stdout",
          "text": [
            "nhập chuỗi ký tự:BÀI tập\n",
            "in hoa: BÀI TẬP\n",
            "in thường: bài tập\n"
          ]
        }
      ]
    },
    {
      "cell_type": "markdown",
      "metadata": {
        "id": "bU9gP2KDDKYB"
      },
      "source": [
        "Bài 6:xuất ra màn hình 1 chuỗi ký tự nằm trên nhiều hàng"
      ]
    },
    {
      "cell_type": "code",
      "metadata": {
        "colab": {
          "base_uri": "https://localhost:8080/"
        },
        "id": "IP1Rl5uIRbT3",
        "outputId": "3d3a9e74-bfa1-428e-880f-f132f2ceb90a"
      },
      "source": [
        "\n",
        "print (\" Quê hương là một tiếng ve \")\n",
        "print (\" Lời ru của mẹ trưa hè à ơi \")\n",
        "print (\" Dòng sông con nước đầy vơi \")\n",
        "print (\" Quê hương là một góc trời tuổi thơ\")"
      ],
      "execution_count": 9,
      "outputs": [
        {
          "output_type": "stream",
          "name": "stdout",
          "text": [
            " Quê hương là một tiếng ve \n",
            " Lời ru của mẹ trưa hè à ơi \n",
            " Dòng sông con nước đầy vơi \n",
            " Quê hương là một góc trời tuổi thơ\n"
          ]
        }
      ]
    }
  ]
}