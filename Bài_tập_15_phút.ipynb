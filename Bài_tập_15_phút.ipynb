{
  "nbformat": 4,
  "nbformat_minor": 0,
  "metadata": {
    "colab": {
      "name": "Bài tập 15 phút.ipynb",
      "provenance": [],
      "authorship_tag": "ABX9TyNP5+w1GugM0yiKTbKMFDgs",
      "include_colab_link": true
    },
    "kernelspec": {
      "name": "python3",
      "display_name": "Python 3"
    },
    "language_info": {
      "name": "python"
    }
  },
  "cells": [
    {
      "cell_type": "markdown",
      "metadata": {
        "id": "view-in-github",
        "colab_type": "text"
      },
      "source": [
        "<a href=\"https://colab.research.google.com/github/thanhduc17/colab-github/blob/main/B%C3%A0i_t%E1%BA%ADp_15_ph%C3%BAt.ipynb\" target=\"_parent\"><img src=\"https://colab.research.google.com/assets/colab-badge.svg\" alt=\"Open In Colab\"/></a>"
      ]
    },
    {
      "cell_type": "markdown",
      "metadata": {
        "id": "npG8TipEq78x"
      },
      "source": [
        "Bài tập:  \n",
        "0 ≤ dtb < 5: Yếu\n",
        "\n",
        "5 ≤ dtb < 7: Trung bình\n",
        "\n",
        "7 ≤ dtb < 8: Khá\n",
        "\n",
        "8 ≤ dtb < 9: Giỏi\n",
        "\n",
        "dtb ≥ 9: Xuất sắc\n",
        "\n",
        "Xay dựng chương trình Python xếp hạng dựa vào dtb nhập từ bàn phím"
      ]
    },
    {
      "cell_type": "code",
      "metadata": {
        "colab": {
          "base_uri": "https://localhost:8080/"
        },
        "id": "0MPJSUDpWQVV",
        "outputId": "92ba581c-d3b7-4436-e203-b5d4ac245343"
      },
      "source": [
        "dtb = float (input(\"Nhập vào điểm trung bình :\"))\n",
        "\n",
        "if (0 <= dtb <5):\n",
        "  print(\"Xếp loại yếu\")\n",
        "elif (5 <= dtb <7):\n",
        "  print(\"Xếp loại trunh bình\")\n",
        "elif (7 <= dtb <8):\n",
        "  print(\"Xếp loại khá\")\n",
        "elif (8 <= dtb <9):\n",
        "  print(\"Xếp loại giỏi\")\n",
        "elif (dtb >= 9):\n",
        "  print(\"Xếp loại xuất sắc\")\n",
        "\n"
      ],
      "execution_count": 4,
      "outputs": [
        {
          "output_type": "stream",
          "name": "stdout",
          "text": [
            "Nhập vào điểm trung bình :6.7\n",
            "Xếp loại trunh bình\n"
          ]
        }
      ]
    }
  ]
}