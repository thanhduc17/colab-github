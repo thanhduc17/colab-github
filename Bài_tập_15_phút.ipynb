{
  "nbformat": 4,
  "nbformat_minor": 0,
  "metadata": {
    "colab": {
      "name": "Bài tập 15 phút.ipynb",
      "provenance": [],
      "authorship_tag": "ABX9TyNd3Y7cix/LO/K+4EplKXRo",
      "include_colab_link": true
    },
    "kernelspec": {
      "name": "python3",
      "display_name": "Python 3"
    },
    "language_info": {
      "name": "python"
    }
  },
  "cells": [
    {
      "cell_type": "markdown",
      "metadata": {
        "id": "view-in-github",
        "colab_type": "text"
      },
      "source": [
        "<a href=\"https://colab.research.google.com/github/thanhduc17/colab-github/blob/main/B%C3%A0i_t%E1%BA%ADp_15_ph%C3%BAt.ipynb\" target=\"_parent\"><img src=\"https://colab.research.google.com/assets/colab-badge.svg\" alt=\"Open In Colab\"/></a>"
      ]
    },
    {
      "cell_type": "code",
      "metadata": {
        "colab": {
          "base_uri": "https://localhost:8080/"
        },
        "id": "0MPJSUDpWQVV",
        "outputId": "c353cb1c-82a7-4ff2-b594-800dc7fed394"
      },
      "source": [
        "\n",
        "dtb = float (input(\"Nhập vào điểm trung bình :\"))\n",
        "\n",
        "if (0 <= dtb <5):\n",
        "  print(\"Xếp loại yếu\")\n",
        "elif (5 <= dtb <7):\n",
        "  print(\"Xếp loại trunh bình\")\n",
        "elif (7 <= dtb <8):\n",
        "  print(\"Xếp loại khá\")\n",
        "elif (8 <= dtb <9):\n",
        "  print(\"Xếp loại giỏi\")\n",
        "elif (dtb >= 9):\n",
        "  print(\"Xếp loại xuất sắc\")\n",
        "\n"
      ],
      "execution_count": 3,
      "outputs": [
        {
          "output_type": "stream",
          "name": "stdout",
          "text": [
            "Nhập vào điểm trung bình :6.7\n",
            "Xếp loại trunh bình\n"
          ]
        }
      ]
    }
  ]
}