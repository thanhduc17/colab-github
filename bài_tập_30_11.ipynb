{
  "nbformat": 4,
  "nbformat_minor": 0,
  "metadata": {
    "colab": {
      "name": "bài tập 30/11.ipynb",
      "provenance": [],
      "authorship_tag": "ABX9TyMWgY7PHerbuYkSjvLyfTqa",
      "include_colab_link": true
    },
    "kernelspec": {
      "name": "python3",
      "display_name": "Python 3"
    },
    "language_info": {
      "name": "python"
    }
  },
  "cells": [
    {
      "cell_type": "markdown",
      "metadata": {
        "id": "view-in-github",
        "colab_type": "text"
      },
      "source": [
        "<a href=\"https://colab.research.google.com/github/thanhduc17/colab-github/blob/main/b%C3%A0i_t%E1%BA%ADp_30_11.ipynb\" target=\"_parent\"><img src=\"https://colab.research.google.com/assets/colab-badge.svg\" alt=\"Open In Colab\"/></a>"
      ]
    },
    {
      "cell_type": "markdown",
      "metadata": {
        "id": "AHRIQUMKEbvw"
      },
      "source": [
        "Bài tập :\n",
        "\n",
        "Lập trình tạo lớp XeMay\n",
        "\n",
        "Lập trình sử dụng lớp XeMay và tạo 3 đối tượng xe máy khác nhau theo ý của bạn\n",
        "\n",
        "In kết quả ra màn hình"
      ]
    },
    {
      "cell_type": "code",
      "metadata": {
        "colab": {
          "base_uri": "https://localhost:8080/"
        },
        "id": "HdVsVZxyjSql",
        "outputId": "5b4d52c5-b9dd-406b-a2d3-cef66fb4a7e7"
      },
      "source": [
        "class XeMay:\n",
        "  phankhoi: int\n",
        "  tenxe: str\n",
        "  xuatxu: str\n",
        "  def __init__(self, distribution, name, origin):\n",
        "    self.phankhoi = distribution\n",
        "    self.tenxe = name\n",
        "    self.xuatxu = origin\n",
        "  def outputXeMay(self) -> str:\n",
        "    result = \"phân khối: \" + str(self.phankhoi) + \"; tên xe: \" + self.tenxe + \"; xuất xứ : \" + self.xuatxu\n",
        "    return result\n",
        "def main():\n",
        "    sirius = XeMay(100, \"Yamaha\", \"VN\")\n",
        "    jupiter = XeMay(120,  \"Yamaha\", \"vn\")\n",
        "    honda  = XeMay(1400,  \"Honda \",\"vn\")\n",
        "    print(sirius.outputXeMay())\n",
        "    print(jupiter.outputXeMay())\n",
        "    print(honda.outputXeMay())\n",
        "\n",
        "if __name__ == \"__main__\":\n",
        "     main()\n"
      ],
      "execution_count": 4,
      "outputs": [
        {
          "output_type": "stream",
          "name": "stdout",
          "text": [
            "phân khối: 100; tên xe: Yamaha; xuất xứ : VN\n",
            "phân khối: 120; tên xe: Yamaha; xuất xứ : vn\n",
            "phân khối: 1400; tên xe: Honda ; xuất xứ : vn\n"
          ]
        }
      ]
    },
    {
      "cell_type": "code",
      "metadata": {
        "id": "CsvVNRHA_X2A"
      },
      "source": [
        "\n"
      ],
      "execution_count": null,
      "outputs": []
    }
  ]
}