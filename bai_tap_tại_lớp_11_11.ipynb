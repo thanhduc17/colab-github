{
  "nbformat": 4,
  "nbformat_minor": 0,
  "metadata": {
    "colab": {
      "name": "bai tap tại lớp 11/11.ipynb",
      "provenance": [],
      "collapsed_sections": [],
      "authorship_tag": "ABX9TyOzHfWwQ2pQ2es5vlEydIJo",
      "include_colab_link": true
    },
    "kernelspec": {
      "name": "python3",
      "display_name": "Python 3"
    },
    "language_info": {
      "name": "python"
    }
  },
  "cells": [
    {
      "cell_type": "markdown",
      "metadata": {
        "id": "view-in-github",
        "colab_type": "text"
      },
      "source": [
        "<a href=\"https://colab.research.google.com/github/thanhduc17/colab-github/blob/main/bai_tap_t%E1%BA%A1i_l%E1%BB%9Bp_11_11.ipynb\" target=\"_parent\"><img src=\"https://colab.research.google.com/assets/colab-badge.svg\" alt=\"Open In Colab\"/></a>"
      ]
    },
    {
      "cell_type": "markdown",
      "metadata": {
        "id": "0_mvddyN5FaJ"
      },
      "source": [
        "Bài 1: Computing Loan Payments"
      ]
    },
    {
      "cell_type": "code",
      "metadata": {
        "colab": {
          "base_uri": "https://localhost:8080/"
        },
        "id": "1OrXonThYi1k",
        "outputId": "0eed2096-c554-4f87-fbf9-f3c695e1c158"
      },
      "source": [
        "a = int(input(\"nhập số tiền vay (triệu) :\"))\n",
        "c = float(input(\"nhập lãi xuất(%):\"))\n",
        "x = c / 100\n",
        "b = int(input(\"nhập số năm vay (năm):\" ))\n",
        "y = (a*x)/(1-(1/((1+x)**(b*12))))\n",
        "print (\"số tiền phải trả trong một tháng :\",y)"
      ],
      "execution_count": 14,
      "outputs": [
        {
          "output_type": "stream",
          "name": "stdout",
          "text": [
            "nhập số tiền vay (triệu) :1200000\n",
            "nhập lãi xuất(%):6\n",
            "nhập số năm vay (năm):3\n",
            "số tiền phải trả trong một tháng : 82073.80179144377\n"
          ]
        }
      ]
    },
    {
      "cell_type": "markdown",
      "metadata": {
        "id": "zOv_-5tZ5OVt"
      },
      "source": [
        "Bài 2: calculate distance"
      ]
    },
    {
      "cell_type": "code",
      "metadata": {
        "colab": {
          "base_uri": "https://localhost:8080/"
        },
        "id": "GJpgBOlvxWw2",
        "outputId": "7a9eda73-f4f0-4167-e9f4-8ec2eee02ada"
      },
      "source": [
        "A = (\"x1;y1\")\n",
        "B = (\"x2;y2\")\n",
        "x1 = float(input(\"nhap toa do X1:\"))\n",
        "y1 = float(input(\"nhap toa do Y1:\"))\n",
        "x2 = float(input(\"nhap toa do X2:\"))\n",
        "y2 = float(input(\"nhap toa do y2:\"))\n",
        "import math\n",
        "AB =(x2-x1)**2+ (y2-y1)**2\n",
        "print (\"khoảng cánh giữa hai điểm A và B :\",math.sqrt(AB))\n"
      ],
      "execution_count": 10,
      "outputs": [
        {
          "output_type": "stream",
          "name": "stdout",
          "text": [
            "nhap toa do X1:12\n",
            "nhap toa do Y1:12\n",
            "nhap toa do X2:23\n",
            "nhap toa do y2:23\n",
            "khoảng cánh giữa hai điểm A và B : 15.556349186104045\n"
          ]
        }
      ]
    }
  ]
}