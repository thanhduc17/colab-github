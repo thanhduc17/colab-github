{
  "nbformat": 4,
  "nbformat_minor": 0,
  "metadata": {
    "colab": {
      "name": "Bài tập về hàm.ipynb",
      "provenance": [],
      "authorship_tag": "ABX9TyNCRq2I0JTzdM1qfQHQFP6K",
      "include_colab_link": true
    },
    "kernelspec": {
      "name": "python3",
      "display_name": "Python 3"
    },
    "language_info": {
      "name": "python"
    }
  },
  "cells": [
    {
      "cell_type": "markdown",
      "metadata": {
        "id": "view-in-github",
        "colab_type": "text"
      },
      "source": [
        "<a href=\"https://colab.research.google.com/github/thanhduc17/colab-github/blob/main/B%C3%A0i_t%E1%BA%ADp_v%E1%BB%81_h%C3%A0m.ipynb\" target=\"_parent\"><img src=\"https://colab.research.google.com/assets/colab-badge.svg\" alt=\"Open In Colab\"/></a>"
      ]
    },
    {
      "cell_type": "markdown",
      "metadata": {
        "id": "czowYwOzkcTN"
      },
      "source": [
        "Bài 1: Hãy xây dựng một hàm thực hiện các yêu cầu sau:\n",
        "- Xuất ra màn hình câu thông báo: “Lập trình Java 2021”\n",
        "- Hàm không có giá trị trả về\n",
        "\n",
        "Từ chương trình chính, gọi thực hiện hàm này.\n"
      ]
    },
    {
      "cell_type": "code",
      "metadata": {
        "colab": {
          "base_uri": "https://localhost:8080/"
        },
        "id": "RxglXxtEkWoY",
        "outputId": "12f213b2-70b8-4da8-d948-2e90b63e91c8"
      },
      "source": [
        "def thong_bao():\n",
        "  print(\"Lập trình Java 2021\")\n",
        "def main():\n",
        "  thong_bao()\n",
        "if (__name__==\"__main__\"):\n",
        "  main()\n"
      ],
      "execution_count": 80,
      "outputs": [
        {
          "output_type": "stream",
          "name": "stdout",
          "text": [
            "Lập trình Java 2021\n"
          ]
        }
      ]
    },
    {
      "cell_type": "markdown",
      "metadata": {
        "id": "bzCnwXNWnZR-"
      },
      "source": [
        "Bài 2: Hãy xây dựng một hàm thực hiện các yêu cầu sau:\n",
        "- Nhận một tham số đầu vào là một chuỗi ký tự (kiểu String)\n",
        "- Xuất ra màn hình nội dung chuỗi được truyền vào từ tham số\n",
        "- Hàm không có giá trị trả về\n",
        "\n",
        "Từ chương trình chính gọi thực hiện hàm này."
      ]
    },
    {
      "cell_type": "code",
      "metadata": {
        "colab": {
          "base_uri": "https://localhost:8080/"
        },
        "id": "S4TqbzP5nRPC",
        "outputId": "6fb3d9aa-bdd3-41ce-f8ec-77606f40102a"
      },
      "source": [
        "def chuoikt(str1):\n",
        "  print(str1)\n",
        "def main():\n",
        "  chuoikt(\"chaomoinguoi\")\n",
        "if (__name__==\"__main__\"):\n",
        "  main()"
      ],
      "execution_count": 81,
      "outputs": [
        {
          "output_type": "stream",
          "name": "stdout",
          "text": [
            "chaomoinguoi\n"
          ]
        }
      ]
    },
    {
      "cell_type": "markdown",
      "metadata": {
        "id": "6CxZSc4_tRaa"
      },
      "source": [
        "Bài 3: Hãy viết chương trình thực hiện các yêu cầu sau:\n",
        "- Nhập một số nguyên dương n từ bàn phím (kiểm tra nếu không đạt yêu cầu thì bắt nhập\n",
        "lại)\n",
        "- Nhập một thông điệp từ bàn phím\n",
        "- Gọi thực hiện hàm ở Bài 2 n lần với thông điệp được truyền làm tham số đầu vào của hàm."
      ]
    },
    {
      "cell_type": "code",
      "metadata": {
        "colab": {
          "base_uri": "https://localhost:8080/"
        },
        "id": "Sqe2fnwatTWj",
        "outputId": "f95962fd-a321-4fdf-9d90-a6b626fa53ac"
      },
      "source": [
        "i = int(input(\"Nhập một số nguyên dương n :\"))\n",
        "while (i < 0):\n",
        "  print(\"không đúng mời nhập lại một số nguyên dương n\")\n",
        "  i = int(input(\"Nhập một số nguyên dương n :\"))\n",
        "def chuoikt(str1,n):\n",
        "  for j in range(0,n):\n",
        "    print(str1)\n",
        "def main():\n",
        "  k = input(\"mời nhập thông điệp :\")\n",
        "  chuoikt(k,i)\n",
        "if (__name__==\"__main__\"):\n",
        "  main()"
      ],
      "execution_count": 82,
      "outputs": [
        {
          "output_type": "stream",
          "name": "stdout",
          "text": [
            "Nhập một số nguyên dương n :4\n",
            "mời nhập thông điệp :chào mọi người\n",
            "chào mọi người\n",
            "chào mọi người\n",
            "chào mọi người\n",
            "chào mọi người\n"
          ]
        }
      ]
    },
    {
      "cell_type": "markdown",
      "metadata": {
        "id": "TzXWOdJnnskA"
      },
      "source": [
        "Bài 4: Hãy viết chương trình thực hiện các yêu cầu sau:\n",
        "- Xây dựng hàm giải phương trình bậc 1 (ax + b = 0), với hệ số a & b được truyền vào qua\n",
        "thông số của hàm.\n",
        "- Chương trình chính nhận các thông số a, b từ bàn phím\n",
        "- Chương trình chính gọi hàm giải phương trình bậc 1 nêu trên"
      ]
    },
    {
      "cell_type": "code",
      "metadata": {
        "colab": {
          "base_uri": "https://localhost:8080/"
        },
        "id": "1915vKFrn6vZ",
        "outputId": "fdee85b4-fe91-44d5-d2d4-ca7f32ef6bd8"
      },
      "source": [
        "print (\"pt có dạng :ax+b=0\")\n",
        "def gpt_bac1(a,b):\n",
        "    \n",
        "    if a == 0:\n",
        "      if b == 0:\n",
        "        print(\"Vô số nghiệm\")\n",
        "      else:\n",
        "        print(\"Vô nghiệm\")\n",
        "    else:\n",
        "      print(\"Phương trình có nghiệm x =\", -b / a)\n",
        "gpt_bac1(2,3)\n"
      ],
      "execution_count": 83,
      "outputs": [
        {
          "output_type": "stream",
          "name": "stdout",
          "text": [
            "pt có dạng :ax+b=0\n",
            "Phương trình có nghiệm x = -1.5\n"
          ]
        }
      ]
    },
    {
      "cell_type": "code",
      "metadata": {
        "colab": {
          "base_uri": "https://localhost:8080/"
        },
        "id": "LCEdzUA23PZ7",
        "outputId": "4b558a41-21c2-4347-8220-3647e67c38d6"
      },
      "source": [
        "print (\"pt có dạng :ax+b=0\")\n",
        "def main():\n",
        "    a = float(input(\"moi nhap so : a =\"))\n",
        "    b = float(input(\"moi nhap so : b =\"))\n",
        "    gpt_bac1(a,b)\n",
        "\n",
        "if __name__==\"__main__\":\n",
        "  main()"
      ],
      "execution_count": 84,
      "outputs": [
        {
          "output_type": "stream",
          "name": "stdout",
          "text": [
            "pt có dạng :ax+b=0\n",
            "moi nhap so : a =12\n",
            "moi nhap so : b =4\n",
            "Phương trình có nghiệm x = -0.3333333333333333\n"
          ]
        }
      ]
    },
    {
      "cell_type": "markdown",
      "metadata": {
        "id": "1azqqeIyx79G"
      },
      "source": [
        "Bài 5: Hãy viết chương trình thực hiện các yêu cầu sau:\n",
        "- Xây dựng hàm giải phương trình bậc (ax2 + bx + c = 0), với hệ số a & b & c được truyền\n",
        "vào qua thông số của hàm.\n",
        "- Chương trình chính nhận các thông số a, b & c từ bàn phím\n",
        "- Chương trình chính gọi hàm giải phương trình bậc 2 nêu trên"
      ]
    },
    {
      "cell_type": "code",
      "metadata": {
        "colab": {
          "base_uri": "https://localhost:8080/"
        },
        "id": "cc3XB9U5x9Yt",
        "outputId": "e8fe03f2-2efb-4eec-da9e-8034d5d47346"
      },
      "source": [
        "print (\"pt có dạng :ax^2+bx+c=0\")\n",
        "def gpt_bac2(a,b,c):\n",
        "    import math\n",
        "    if a==0:\n",
        "        if b==0:\n",
        "          if c==0:\n",
        "            print(\"Phương trình vô số nghiệm.\")\n",
        "          else:\n",
        "            print(\"Phương trình vô nghiệm.\")\n",
        "        else:\n",
        "          print(\"Phương trình đã cho có nghiệm là:\",-c/b)\n",
        "    else:\n",
        "      delta= (b*b)-(4*a*c)\n",
        "      if (delta>0):\n",
        "        x1 = (float)((-b + math.sqrt(delta)) / (2 * a));\n",
        "        x2 = (float)((-b - math.sqrt(delta)) / (2 * a));\n",
        "        print (\"Phương trình có 2 nghiệm là: x1 = \", x1, \" và x2 = \", x2);\n",
        "      elif (delta == 0):\n",
        "        x1 = (-b / (2 * a));\n",
        "        print(\"Phương trình có nghiệm kép: x1 = x2 = \", x1);\n",
        "      else:\n",
        "        print(\"Phương trình vô nghiệm!\");\n",
        "gpt_bac2(-3,3,4)"
      ],
      "execution_count": 85,
      "outputs": [
        {
          "output_type": "stream",
          "name": "stdout",
          "text": [
            "pt có dạng :ax^2+bx+c=0\n",
            "Phương trình có 2 nghiệm là: x1 =  -0.7583057392117917  và x2 =  1.7583057392117916\n"
          ]
        }
      ]
    },
    {
      "cell_type": "code",
      "metadata": {
        "colab": {
          "base_uri": "https://localhost:8080/"
        },
        "id": "TzdFWb3X3BKc",
        "outputId": "e392be16-85d5-425f-d3de-8715feaa8225"
      },
      "source": [
        "print (\"pt có dạng :ax^2+bx+c=0\")\n",
        "def main():\n",
        "    a = float(input(\"moi nhap so : a =\"))\n",
        "    b = float(input(\"moi nhap so : b =\"))\n",
        "    c = float(input(\"moi nhap so : c =\"))\n",
        "    gpt_bac2(a,b,c)\n",
        "\n",
        "if __name__==\"__main__\":\n",
        "  main()"
      ],
      "execution_count": 86,
      "outputs": [
        {
          "output_type": "stream",
          "name": "stdout",
          "text": [
            "pt có dạng :ax^2+bx+c=0\n",
            "moi nhap so : a =12\n",
            "moi nhap so : b =3\n",
            "moi nhap so : c =-2\n",
            "Phương trình có 2 nghiệm là: x1 =  0.30195628191498325  và x2 =  -0.5519562819149832\n"
          ]
        }
      ]
    },
    {
      "cell_type": "markdown",
      "metadata": {
        "id": "dxDxJjrlusmF"
      },
      "source": [
        "Bài 6: Hãy viết chương trình thực hiện các yêu cầu sau:\n",
        "\n",
        "Cho người dùng lựa chọn giải phương trình bậc 1 hay bậc 2 bằng cách nhập số (1 hay 2) từ bàn phím\n",
        "\n",
        "Nếu người dùng chọn giải phương trình bậc 1, thì thực hiện các bước như Bài 4\n",
        "\n",
        "Nếu người dùng chọn giải phương trình bậc 2, thì thực hiện các bước như Bài 5"
      ]
    },
    {
      "cell_type": "code",
      "metadata": {
        "colab": {
          "base_uri": "https://localhost:8080/"
        },
        "id": "8u8zBxRwusSd",
        "outputId": "ecf60c37-66ed-4397-921b-c5c48b063245"
      },
      "source": [
        "n=int(input(\"Mời nhập 1 hoặc 2:\"))\n",
        "while (n != 1) and ( n != 2):\n",
        "  print(\"Nhập sai, mời nhập lại, chỉ nhập 1 hoặc 2 !\")\n",
        "  n=int(input(\"Mời nhập 1 hoặc 2:\"))\n",
        "if (n==1):\n",
        "    print (\"pt có dạng :ax+b=0\")\n",
        "    a = float(input(\"moi nhap so : a =\"))\n",
        "    b = float(input(\"moi nhap so : b =\"))\n",
        "    gpt_bac1(a,b)\n",
        "if (n==2):\n",
        "    print (\"pt có dạng :ax^2+bx+c=0\")\n",
        "    a = float(input(\"moi nhap so : a =\"))\n",
        "    b = float(input(\"moi nhap so : b =\"))\n",
        "    c = float(input(\"moi nhap so : c =\"))\n",
        "    gpt_bac2(a,b,c)\n",
        "\n"
      ],
      "execution_count": 87,
      "outputs": [
        {
          "output_type": "stream",
          "name": "stdout",
          "text": [
            "Mời nhập 1 hoặc 2:3\n",
            "Nhập sai, mời nhập lại, chỉ nhập 1 hoặc 2 !\n",
            "Mời nhập 1 hoặc 2:1\n",
            "pt có dạng :ax+b=0\n",
            "moi nhap so : a =1\n",
            "moi nhap so : b =3\n",
            "Phương trình có nghiệm x = -3.0\n"
          ]
        }
      ]
    },
    {
      "cell_type": "code",
      "metadata": {
        "colab": {
          "base_uri": "https://localhost:8080/"
        },
        "id": "p738anLw0WaZ",
        "outputId": "16d70b8f-bdf0-4bff-9eac-b38e496a0a42"
      },
      "source": [
        "check=\"Y\"\n",
        "while (check==\"Y\") or (check==\"y\"):\n",
        "  n=int(input(\"Mời nhập 1 hoặc 2:\"))     \n",
        "  while (n != 1) and ( n != 2):\n",
        "        print(\"Nhập sai, mời nhập lại, chỉ nhập 1 hoặc 2 !\")\n",
        "        n=int(input(\"Mời nhập 1 hoặc 2:\"))\n",
        "  if (n==1):\n",
        "          print (\"pt có dạng :ax+b=0\")\n",
        "          a = float(input(\"moi nhap so : a =\"))\n",
        "          b = float(input(\"moi nhap so : b =\"))\n",
        "          gpt_bac1(a,b)\n",
        "  if (n==2):\n",
        "          print (\"pt có dạng :ax^2+bx+c=0\")\n",
        "          a = float(input(\"moi nhap so : a =\"))\n",
        "          b = float(input(\"moi nhap so : b =\"))\n",
        "          c = float(input(\"moi nhap so : c =\"))\n",
        "          gpt_bac2(a,b,c)\n",
        "  check=input(\"Nhấn Y để tiếp tục, nhấn phím bất kì để dừng lại:\")\n",
        "print(\"kết thúc\")"
      ],
      "execution_count": 89,
      "outputs": [
        {
          "output_type": "stream",
          "name": "stdout",
          "text": [
            "Mời nhập 1 hoặc 2:3\n",
            "Nhập sai, mời nhập lại, chỉ nhập 1 hoặc 2 !\n",
            "Mời nhập 1 hoặc 2:2\n",
            "pt có dạng :ax^2+bx+c=0\n",
            "moi nhap so : a =23\n",
            "moi nhap so : b =-5\n",
            "moi nhap so : c =-10\n",
            "Phương trình có 2 nghiệm là: x1 =  0.7769750499538869  và x2 =  -0.5595837456060607\n",
            "Nhấn Y để tiếp tục, nhấn phím bất kì để dừng lại:y\n",
            "Mời nhập 1 hoặc 2:1\n",
            "pt có dạng :ax+b=0\n",
            "moi nhap so : a =1\n",
            "moi nhap so : b =3\n",
            "Phương trình có nghiệm x = -3.0\n",
            "Nhấn Y để tiếp tục, nhấn phím bất kì để dừng lại:t\n",
            "kết thúc\n"
          ]
        }
      ]
    }
  ]
}