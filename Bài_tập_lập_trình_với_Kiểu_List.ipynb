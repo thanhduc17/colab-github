{
  "nbformat": 4,
  "nbformat_minor": 0,
  "metadata": {
    "colab": {
      "name": "Bài tập lập trình với Kiểu List.ipynb",
      "provenance": [],
      "authorship_tag": "ABX9TyOgR6EHOJJqpIr2zwCaM94l",
      "include_colab_link": true
    },
    "kernelspec": {
      "name": "python3",
      "display_name": "Python 3"
    },
    "language_info": {
      "name": "python"
    }
  },
  "cells": [
    {
      "cell_type": "markdown",
      "metadata": {
        "id": "view-in-github",
        "colab_type": "text"
      },
      "source": [
        "<a href=\"https://colab.research.google.com/github/thanhduc17/colab-github/blob/main/B%C3%A0i_t%E1%BA%ADp_l%E1%BA%ADp_tr%C3%ACnh_v%E1%BB%9Bi_Ki%E1%BB%83u_List.ipynb\" target=\"_parent\"><img src=\"https://colab.research.google.com/assets/colab-badge.svg\" alt=\"Open In Colab\"/></a>"
      ]
    },
    {
      "cell_type": "code",
      "metadata": {
        "colab": {
          "base_uri": "https://localhost:8080/"
        },
        "id": "8VWJRaEUYLLV",
        "outputId": "dfaf35d7-2fe7-43da-a86a-f352cd4d0509"
      },
      "source": [
        "#1 x là kiểu list rỗng\n",
        "x = []\n",
        "\n",
        "#2 Thêm giá trị 18 vào x\n",
        "x.append ( 18 )\n",
        "print(\"x = \",x)\n",
        "\n",
        "#3 Thêm giá trị \"Hue\" vao x\n",
        "x.append ( \"Hue\" )\n",
        "print(\"x = \",x)\n",
        "\n",
        "#4 Thêm y vào x\n",
        "y = [12,45,-1,-0.56,\"abc\"]\n",
        "\n",
        "#5 Thêm y vào x\n",
        "x.extend (y)\n",
        "print (\"x = \", x)\n"
      ],
      "execution_count": 27,
      "outputs": [
        {
          "output_type": "stream",
          "name": "stdout",
          "text": [
            "x =  [18]\n",
            "x =  [18, 'Hue']\n",
            "x =  [18, 'Hue', 12, 45, -1, -0.56, 'abc']\n"
          ]
        }
      ]
    },
    {
      "cell_type": "code",
      "metadata": {
        "colab": {
          "base_uri": "https://localhost:8080/"
        },
        "id": "Cnhf_1FNaOYS",
        "outputId": "db80516f-4dc5-4442-e025-ebc5737c89bc"
      },
      "source": [
        "#6 Xuất giá trị của x ra màn hình\n",
        "print (\" Giá trị của x = \", x)\n",
        "\n",
        "#7 In ra màn hình giá trị của phần tử cuối cùng và phần tử đầu tiên của x\n",
        "print (\" Phần tử đầu tiên của x la: \", x[0])\n",
        "print (\" Phần tử cuối cùng của x la: \", x[-1])\n",
        "\n",
        "\n",
        "#8 In ra màn hình giá trị của phần tử đầu tiên đến phần tử thứ 5 của x\n",
        "print (\" Phần tử đầu tiên đến phần tử thứ 5 của x là: \", x[:5])\n",
        "\n",
        "#9 In ra màn hình giá trị của phần từ thứ 3 đến cuối cùng của x\n",
        "print (\" phần tử thứ 3 đến phần tử cuối cùng của x la: \", x[3:])\n"
      ],
      "execution_count": 28,
      "outputs": [
        {
          "output_type": "stream",
          "name": "stdout",
          "text": [
            " Giá trị của x =  [18, 'Hue', 12, 45, -1, -0.56, 'abc']\n",
            " Phần tử đầu tiên của x la:  18\n",
            " Phần tử cuối cùng của x la:  abc\n",
            " Phần tử đầu tiên đến phần tử thứ 5 của x là:  [18, 'Hue', 12, 45, -1]\n",
            " phần tử thứ 3 đến phần tử cuối cùng của x la:  [45, -1, -0.56, 'abc']\n"
          ]
        }
      ]
    }
  ]
}