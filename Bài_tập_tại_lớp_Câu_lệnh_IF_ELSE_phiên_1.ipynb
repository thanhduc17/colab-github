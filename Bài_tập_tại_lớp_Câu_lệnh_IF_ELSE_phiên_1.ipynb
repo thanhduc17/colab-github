{
  "nbformat": 4,
  "nbformat_minor": 0,
  "metadata": {
    "colab": {
      "name": "Bài tập tại lớp - Câu lệnh IF - ELSE - phiên 1.ipynb",
      "provenance": [],
      "authorship_tag": "ABX9TyMlfZhLoC+kmZy4r10McQfQ",
      "include_colab_link": true
    },
    "kernelspec": {
      "name": "python3",
      "display_name": "Python 3"
    },
    "language_info": {
      "name": "python"
    }
  },
  "cells": [
    {
      "cell_type": "markdown",
      "metadata": {
        "id": "view-in-github",
        "colab_type": "text"
      },
      "source": [
        "<a href=\"https://colab.research.google.com/github/thanhduc17/colab-github/blob/main/B%C3%A0i_t%E1%BA%ADp_t%E1%BA%A1i_l%E1%BB%9Bp_C%C3%A2u_l%E1%BB%87nh_IF_ELSE_phi%C3%AAn_1.ipynb\" target=\"_parent\"><img src=\"https://colab.research.google.com/assets/colab-badge.svg\" alt=\"Open In Colab\"/></a>"
      ]
    },
    {
      "cell_type": "markdown",
      "metadata": {
        "id": "WjZBzr1Asy7_"
      },
      "source": [
        "Bài 1: Write a Python program to get a number from the user and print whether it is positive or negative"
      ]
    },
    {
      "cell_type": "code",
      "metadata": {
        "id": "ijG-qMdxoJ26",
        "colab": {
          "base_uri": "https://localhost:8080/"
        },
        "outputId": "a8c1ef2c-647d-4ccd-f15c-b8acb9e463ae"
      },
      "source": [
        "\n",
        "i = int(input(\"Mời nhập một số bất kỳ:\"))\n",
        "if (i > 0):\n",
        "    print(i,\"Là số dương\")\n",
        "else:\n",
        "    if (i < 0): \n",
        "        print(i,\"Là số âm\")\n",
        "    else:\n",
        "        print(\"Là số không\")\n"
      ],
      "execution_count": 1,
      "outputs": [
        {
          "output_type": "stream",
          "name": "stdout",
          "text": [
            "Mời nhập một số bất kỳ:-12\n",
            "-12 Là số âm\n"
          ]
        }
      ]
    },
    {
      "cell_type": "markdown",
      "metadata": {
        "id": "xdqyGcTns4k2"
      },
      "source": [
        "Bài 2: Take three numbers from the user and print the greatest number"
      ]
    },
    {
      "cell_type": "code",
      "metadata": {
        "colab": {
          "base_uri": "https://localhost:8080/"
        },
        "id": "g8abrVuYo-iq",
        "outputId": "4947aca6-7112-4c65-8ab9-063b4c655048"
      },
      "source": [
        "\n",
        "i = int (input(\"Nhập vào số đầu tiên :\"))\n",
        "j = int (input(\"Nhập vaò số thứ hai :\"))\n",
        "k = int (input(\"Nhập vào số thứ ba :\"))\n",
        "if ((i > j) and(i > k)):\n",
        "    print(\"Số lớn nhất là:\",i)\n",
        "else:\n",
        "  if ((j > i) and (i > k)):\n",
        "    print(\"Số lớn nhất là:\",j)\n",
        "  else:\n",
        "    print(\"Số lớn nhất là:\",k)"
      ],
      "execution_count": 2,
      "outputs": [
        {
          "output_type": "stream",
          "name": "stdout",
          "text": [
            "Nhập vào số đầu tiên :12\n",
            "Nhập vaò số thứ hai :54\n",
            "Nhập vào số thứ ba :87\n",
            "Số lớn nhất là: 87\n"
          ]
        }
      ]
    },
    {
      "cell_type": "markdown",
      "metadata": {
        "id": "7axN6bECs8C1"
      },
      "source": [
        "Bài 3: Write a Python program that reads a floating-point number and prints \"zero\" if the number is\n",
        "zero. Otherwise, print \"positive\" or \"negative\". Add \"small\" if the absolute value of the number is\n",
        "less than 1, or \"large\" if it exceeds 1,000,000."
      ]
    },
    {
      "cell_type": "code",
      "metadata": {
        "colab": {
          "base_uri": "https://localhost:8080/"
        },
        "id": "TCkydDekpgEo",
        "outputId": "1381662d-3022-4c31-cdd5-53bc7a18e168"
      },
      "source": [
        "\n",
        "a = float (input(\"Nhập vào một số :\"))\n",
        "if (a > 0):\n",
        "  print(a,\"Là số dương\")\n",
        "else:\n",
        "  if (a < 0)  :\n",
        "    print(a,\"Là số âm\")\n",
        "  else:\n",
        "    print(\"Là số không\")\n",
        "if (abs(a) > 1000000):\n",
        "   print(abs(a),\"số dương Lớn\")\n",
        "else:\n",
        "    if (abs(a) < 1):\n",
        "        print(abs(a),\"số dương Nhỏ \")"
      ],
      "execution_count": 5,
      "outputs": [
        {
          "output_type": "stream",
          "name": "stdout",
          "text": [
            "Nhập vào một số :-0.12\n",
            "-0.12 Là số âm\n",
            "0.12 số dương Nhỏ \n"
          ]
        }
      ]
    },
    {
      "cell_type": "markdown",
      "metadata": {
        "id": "RnILVcc8tUeN"
      },
      "source": [
        "Bài 4: Write a Python program that keeps a number from the user and generates an integer between 1\n",
        "and 7 and displays the name of the weekday."
      ]
    },
    {
      "cell_type": "code",
      "metadata": {
        "colab": {
          "base_uri": "https://localhost:8080/"
        },
        "id": "7FZuzs8ap6T5",
        "outputId": "08ddd559-c3f2-49f7-bbe6-acec2a7102a8"
      },
      "source": [
        "\n",
        "i = int (input(\"Nhập một ngày trong tuần (1-7):\"))\n",
        "if (i == 1):\n",
        "  print(\"Là ngày thứ hai\")\n",
        "else:\n",
        "  if (i == 2):\n",
        "    print(\"Là ngày thứ ba\")\n",
        "  else:\n",
        "    if (i == 3):\n",
        "      print(\"Là ngày thứ tư\")\n",
        "    else:\n",
        "      if (i == 4):\n",
        "        print(\"Là ngày thứ năm\")\n",
        "      else:\n",
        "        if (i == 5):\n",
        "          print(\"Là ngày  thứ sáu\")\n",
        "        else:\n",
        "          if (i == 6):\n",
        "            print(\"Là ngày thứ bảy\")\n",
        "          else:\n",
        "            if (i == 7):\n",
        "              print(\"Là ngày chủ nhật\")"
      ],
      "execution_count": 6,
      "outputs": [
        {
          "output_type": "stream",
          "name": "stdout",
          "text": [
            "Nhập một ngày trong tuần (1-7):5\n",
            "Là ngày  thứ sáu\n"
          ]
        }
      ]
    },
    {
      "cell_type": "markdown",
      "metadata": {
        "id": "TZDDEE90tYns"
      },
      "source": [
        "Bài 5: Write a Python program that reads in two floating-point numbers and tests whether they are the\n",
        "same up to three decimal places."
      ]
    },
    {
      "cell_type": "code",
      "metadata": {
        "colab": {
          "base_uri": "https://localhost:8080/"
        },
        "id": "27E5wdT8qlsB",
        "outputId": "df7959f9-8eab-4281-8f1d-a4e8b207b643"
      },
      "source": [
        "a = float (input(\"Nhập vào số thứ nhất :\"))\n",
        "b = float (input(\"Nhập vào số thứ hai :\"))\n",
        "c =round(a,3)\n",
        "d =round(b,3)\n",
        "if c == d :\n",
        "  print(\"Hai số\",a,\"và\",b,\"là hai số giống nhau\")\n",
        "else:\n",
        "  print(\"Hai số\",a,\"và\",b,\"là hai số khác nhau\")\n"
      ],
      "execution_count": 8,
      "outputs": [
        {
          "output_type": "stream",
          "name": "stdout",
          "text": [
            "Nhập vào số thứ nhất :23.789\n",
            "Nhập vào số thứ hai :23.7894\n",
            "Hai số 23.789 và 23.7894 là hai số giống nhau\n"
          ]
        }
      ]
    }
  ]
}