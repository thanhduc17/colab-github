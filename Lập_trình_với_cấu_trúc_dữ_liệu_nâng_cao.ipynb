{
  "nbformat": 4,
  "nbformat_minor": 0,
  "metadata": {
    "colab": {
      "name": "Lập trình với cấu trúc dữ liệu nâng cao.ipynb",
      "provenance": [],
      "collapsed_sections": [],
      "authorship_tag": "ABX9TyNQWcBoOAgu2YkY+7UMY/fe",
      "include_colab_link": true
    },
    "kernelspec": {
      "name": "python3",
      "display_name": "Python 3"
    },
    "language_info": {
      "name": "python"
    }
  },
  "cells": [
    {
      "cell_type": "markdown",
      "metadata": {
        "id": "view-in-github",
        "colab_type": "text"
      },
      "source": [
        "<a href=\"https://colab.research.google.com/github/thanhduc17/colab-github/blob/main/L%E1%BA%ADp_tr%C3%ACnh_v%E1%BB%9Bi_c%E1%BA%A5u_tr%C3%BAc_d%E1%BB%AF_li%E1%BB%87u_n%C3%A2ng_cao.ipynb\" target=\"_parent\"><img src=\"https://colab.research.google.com/assets/colab-badge.svg\" alt=\"Open In Colab\"/></a>"
      ]
    },
    {
      "cell_type": "markdown",
      "metadata": {
        "id": "8C-jPpJcf0D_"
      },
      "source": [
        "Bài 1: Viết chương trình thực hiện các yêu cầu sau:\n",
        "\n",
        " Nhập vào 1 số nguyên dương N từ bàn phím\n",
        "\n",
        " Hãy xây dựng 1 dictionary với các phần tử chỉ mục và giá trị có dạng (i: log(i)) với I đi từ\n",
        "0 tới N\n",
        "\n",
        " Hiển thị dictionary trên ra màn hình\n"
      ]
    },
    {
      "cell_type": "code",
      "metadata": {
        "colab": {
          "base_uri": "https://localhost:8080/"
        },
        "id": "UMBBAWQmfuj7",
        "outputId": "0eb644f2-e24d-4bb4-8885-1127edbf1e58"
      },
      "source": [
        " import math  \n",
        "a = int (input(\"nhập một số nguyên dương :\"))\n",
        "for i in range (0,a+1):\n",
        "  j = {i:math.log(a)}\n",
        "  print(j)\n",
        "\n"
      ],
      "execution_count": null,
      "outputs": [
        {
          "output_type": "stream",
          "name": "stdout",
          "text": [
            "nhập một số nguyên dương :8\n",
            "{0: 2.0794415416798357}\n",
            "{1: 2.0794415416798357}\n",
            "{2: 2.0794415416798357}\n",
            "{3: 2.0794415416798357}\n",
            "{4: 2.0794415416798357}\n",
            "{5: 2.0794415416798357}\n",
            "{6: 2.0794415416798357}\n",
            "{7: 2.0794415416798357}\n",
            "{8: 2.0794415416798357}\n"
          ]
        }
      ]
    },
    {
      "cell_type": "markdown",
      "metadata": {
        "id": "qVM5egibFKmI"
      },
      "source": [
        "Bài 2: Viết chương trình thực hiện các yêu cầu sau:\n",
        "\n",
        " Nhập vào từ bàn phím một chuỗi các giá trị (có thể là số nguyên, số thực hay các ký tự)\n",
        "cách nhau bởi dấu phẩy (“,”).\n",
        "\n",
        " Chuyển chuỗi được nhập từ bàn phím thành một danh sách (list)\n",
        "\n",
        " Hiển thị danh sách đó ra màn hình.\n"
      ]
    },
    {
      "cell_type": "code",
      "metadata": {
        "id": "8eYVxwJUV510",
        "colab": {
          "base_uri": "https://localhost:8080/"
        },
        "outputId": "039dff9f-1660-4fae-9dad-748256ad72e6"
      },
      "source": [
        "a=input(\"Mời nhập chuỗi:\")\n",
        "list1=a.split(\",\")\n",
        "print(\"danh sách chuỗi list là :\",list1 )"
      ],
      "execution_count": 6,
      "outputs": [
        {
          "output_type": "stream",
          "name": "stdout",
          "text": [
            "Mời nhập chuỗi:-12,mai,hôm\n",
            "danh sách chuỗi list là : ['-12', 'mai', 'hôm']\n"
          ]
        }
      ]
    },
    {
      "cell_type": "markdown",
      "metadata": {
        "id": "L0Qtc-BRFbKX"
      },
      "source": [
        "Bài 3: Viết chương trình thực hiện các yêu cầu sau:\n",
        "\n",
        "Nhập vào từ bàn phím một chuỗi các giá trị (có thể là số nguyên, số thực hay các ký tự)\n",
        "cách nhau bởi dấu phẩy (“,”).\n",
        "\n",
        "Chuyển chuỗi được nhập từ bàn phím thành một tuple\n",
        "\n",
        "Hiển thị tuple đó ra màn hình.\n"
      ]
    },
    {
      "cell_type": "code",
      "metadata": {
        "id": "yOKj2e1v77Bk",
        "colab": {
          "base_uri": "https://localhost:8080/"
        },
        "outputId": "f8e8082c-7a49-4fc9-9e2c-f45bd9d7147d"
      },
      "source": [
        "a=input(\"Mời nhập chuỗi:\")\n",
        "list1=a.split(\",\")\n",
        "b = tuple(list1)\n",
        "print(\"danh sách chuỗi tuple là :\",b )"
      ],
      "execution_count": 7,
      "outputs": [
        {
          "output_type": "stream",
          "name": "stdout",
          "text": [
            "Mời nhập chuỗi:12,tuấn,teo\n",
            "danh sách chuỗi tuple là : ('12', 'tuấn', 'teo')\n"
          ]
        }
      ]
    },
    {
      "cell_type": "markdown",
      "metadata": {
        "id": "gvJryeVS6g9h"
      },
      "source": [
        "Bài 4: Viết chương trình thực hiện các yêu cầu sau:\n",
        "\n",
        "Nhập vào 1 chuỗi các kí tự từ bàn phím, các từ cách nhau bởi ít nhất một khoảng trắng\n",
        "\n",
        "Chuyển chuỗi vừa nhập thành 1 danh sách với điều kiện phân tách là dấu khoảng trắng (space)\n",
        "\n",
        "Hiển thị danh sách thu được ra màn hình"
      ]
    },
    {
      "cell_type": "code",
      "metadata": {
        "id": "QnpNmqOaQab7",
        "colab": {
          "base_uri": "https://localhost:8080/"
        },
        "outputId": "4b25e342-2fd5-43a9-ed75-93a005084daf"
      },
      "source": [
        "a=input(\"Mời nhập chuỗi:\")\n",
        "list1=a.split( )\n",
        "print(\"danh sách chuỗi là :\",list1 )"
      ],
      "execution_count": 12,
      "outputs": [
        {
          "output_type": "stream",
          "name": "stdout",
          "text": [
            "Mời nhập chuỗi:12 tuan 34\n",
            "danh sách chuỗi là : ['12', 'tuan', '34']\n"
          ]
        }
      ]
    },
    {
      "cell_type": "markdown",
      "metadata": {
        "id": "7ivPacdm7Y5B"
      },
      "source": [
        "Bài 5: Viết chương trình thực hiện các yêu cầu sau:\n",
        "\n",
        "Nhập vào 1 danh sách các số nguyên từ bàn phím (Quá trình nhập dừng khi người dùng nhập vào 1 kí tự từ a đến z)\n",
        "\n",
        "Hiển thị danh sách đó ra màn hình\n",
        "\n",
        "Yêu cầu người dùng nhập vào một số nguyên N từ bàn phím\n",
        "\n",
        "Tìm kiếm vị trí xuất hiện đầu tiên của N trong danh sách và hiển thị ra màn hình (nếu không có thì thông báo không tìm thấy ra màn hình).\n",
        "\n",
        "\n",
        "Tìm kiếm tất cả các vị trí xuất hiện của N trong danh sách và hiển thị ra màn hình. (Nếu không tìm thấy thì thông báo không tìm được ra màn hình)"
      ]
    },
    {
      "cell_type": "code",
      "metadata": {
        "id": "t0a2QyKt6OUg"
      },
      "source": [
        ""
      ],
      "execution_count": null,
      "outputs": []
    }
  ]
}