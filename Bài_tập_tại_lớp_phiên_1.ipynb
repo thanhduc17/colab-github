{
  "nbformat": 4,
  "nbformat_minor": 0,
  "metadata": {
    "colab": {
      "name": "Bài tập tại lớp  - phiên 1.ipynb",
      "provenance": [],
      "authorship_tag": "ABX9TyOWx2oxqQUE1v4HkN0S0vXN",
      "include_colab_link": true
    },
    "kernelspec": {
      "name": "python3",
      "display_name": "Python 3"
    },
    "language_info": {
      "name": "python"
    }
  },
  "cells": [
    {
      "cell_type": "markdown",
      "metadata": {
        "id": "view-in-github",
        "colab_type": "text"
      },
      "source": [
        "<a href=\"https://colab.research.google.com/github/thanhduc17/colab-github/blob/main/B%C3%A0i_t%E1%BA%ADp_t%E1%BA%A1i_l%E1%BB%9Bp_phi%C3%AAn_1.ipynb\" target=\"_parent\"><img src=\"https://colab.research.google.com/assets/colab-badge.svg\" alt=\"Open In Colab\"/></a>"
      ]
    },
    {
      "cell_type": "code",
      "metadata": {
        "id": "LK3kaSjLWmKa"
      },
      "source": [
        "list1 = ['physics', 'chemistry', 1997, 2000]\n",
        "list2 = [1, 2, 3, 4, 5 ]\n",
        "list3 = [\"a\", \"b\", \"c\", \"d\"]"
      ],
      "execution_count": 1,
      "outputs": []
    },
    {
      "cell_type": "code",
      "metadata": {
        "colab": {
          "base_uri": "https://localhost:8080/"
        },
        "id": "-Um1efjWWnUh",
        "outputId": "bdae75f5-568f-4c0f-c2f2-2f188848d859"
      },
      "source": [
        "list1 = ['physics', 'chemistry', 1997, 2000]\n",
        "list2 = [1, 2, 3, 4, 5, 6, 7 ]\n",
        "print(\"list1[0]: \", list1[0])\n",
        "print(\"list2[1:5]: \", list2[1:5])"
      ],
      "execution_count": 2,
      "outputs": [
        {
          "output_type": "stream",
          "name": "stdout",
          "text": [
            "list1[0]:  physics\n",
            "list2[1:5]:  [2, 3, 4, 5]\n"
          ]
        }
      ]
    },
    {
      "cell_type": "code",
      "metadata": {
        "colab": {
          "base_uri": "https://localhost:8080/"
        },
        "id": "PO_pM1jfWrmR",
        "outputId": "a6a67573-b364-4ea4-b9de-789221a28666"
      },
      "source": [
        "list1 = ['physics', 'chemistry', 1997, 2000]\n",
        "print(\"Value available at index 2 : \")\n",
        "print(list1[2])\n",
        "list1[2] = 2001\n",
        "print(\"New value available at index 2 : \")\n",
        "print(list1[2])"
      ],
      "execution_count": 3,
      "outputs": [
        {
          "output_type": "stream",
          "name": "stdout",
          "text": [
            "Value available at index 2 : \n",
            "1997\n",
            "New value available at index 2 : \n",
            "2001\n"
          ]
        }
      ]
    },
    {
      "cell_type": "code",
      "metadata": {
        "colab": {
          "base_uri": "https://localhost:8080/"
        },
        "id": "VBB08l1xWy_y",
        "outputId": "44cb0228-d208-4e8c-8c99-0f8f200a39cf"
      },
      "source": [
        "list1 = ['physics', 'chemistry', 1997, 2000]\n",
        "print(list1)\n",
        "del list1[2]\n",
        "print(\"After deleting value at index 2 : \")\n",
        "print(list1)"
      ],
      "execution_count": 4,
      "outputs": [
        {
          "output_type": "stream",
          "name": "stdout",
          "text": [
            "['physics', 'chemistry', 1997, 2000]\n",
            "After deleting value at index 2 : \n",
            "['physics', 'chemistry', 2000]\n"
          ]
        }
      ]
    },
    {
      "cell_type": "code",
      "metadata": {
        "colab": {
          "base_uri": "https://localhost:8080/"
        },
        "id": "B8MyiTB7Qfp8",
        "outputId": "c5982937-76a6-4547-cb2e-3ee2d71e30f8"
      },
      "source": [
        "list1 = [\"hue\", \"ha tinh\", 12, 29]\n",
        "list2 = [1, 2, 3, 4, 5 ]\n",
        "print(len(list1))\n",
        "list3=list1 + list2 \n",
        "print(list3)\n",
        "print(list1*3)\n",
        "print(4 in list1)\n",
        "\n"
      ],
      "execution_count": 5,
      "outputs": [
        {
          "output_type": "stream",
          "name": "stdout",
          "text": [
            "4\n",
            "['hue', 'ha tinh', 12, 29, 1, 2, 3, 4, 5]\n",
            "['hue', 'ha tinh', 12, 29, 'hue', 'ha tinh', 12, 29, 'hue', 'ha tinh', 12, 29]\n",
            "False\n"
          ]
        }
      ]
    },
    {
      "cell_type": "code",
      "metadata": {
        "colab": {
          "base_uri": "https://localhost:8080/"
        },
        "id": "mvQi_tJcW_eh",
        "outputId": "e9f1aefe-6a02-4311-876c-4d3fb297f802"
      },
      "source": [
        "list1 = [\"hue\", \"ha tinh\", 12, 29]\n",
        "print(list1[2])\n",
        "print(list1[-2])\n",
        "print(list1[1:])"
      ],
      "execution_count": 6,
      "outputs": [
        {
          "output_type": "stream",
          "name": "stdout",
          "text": [
            "12\n",
            "12\n",
            "['ha tinh', 12, 29]\n"
          ]
        }
      ]
    },
    {
      "cell_type": "code",
      "metadata": {
        "colab": {
          "base_uri": "https://localhost:8080/"
        },
        "id": "9SEwSU2vXp6I",
        "outputId": "ee9e8a30-c78f-4c71-8e32-9de0817607b5"
      },
      "source": [
        "list2 = [1, 2, 3, 4, 5 ]\n",
        "print(len(list2) )\n",
        "print(max(list2) )\n",
        "print(min(list2) )\n"
      ],
      "execution_count": 7,
      "outputs": [
        {
          "output_type": "stream",
          "name": "stdout",
          "text": [
            "5\n",
            "5\n",
            "1\n"
          ]
        }
      ]
    },
    {
      "cell_type": "code",
      "metadata": {
        "colab": {
          "base_uri": "https://localhost:8080/"
        },
        "id": "cckVqU-itoCR",
        "outputId": "d2f15268-d8c8-4d6c-a56d-0f29c56ca0c0"
      },
      "source": [
        "tup=(1,2,3,4) \n",
        "list1.append(tup)\n",
        "print(list1)"
      ],
      "execution_count": 8,
      "outputs": [
        {
          "output_type": "stream",
          "name": "stdout",
          "text": [
            "['hue', 'ha tinh', 12, 29, (1, 2, 3, 4)]\n"
          ]
        }
      ]
    },
    {
      "cell_type": "code",
      "metadata": {
        "colab": {
          "base_uri": "https://localhost:8080/"
        },
        "id": "k4kHab7smu7B",
        "outputId": "76fd7c31-4c02-4c27-dd05-643d9d536b52"
      },
      "source": [
        "list1 = [\"hue\", \"ha tinh\", 12, 29]\n",
        "list1.append(76)\n",
        "print(list1)\n",
        "list1.count(12)\n"
      ],
      "execution_count": 9,
      "outputs": [
        {
          "output_type": "stream",
          "name": "stdout",
          "text": [
            "['hue', 'ha tinh', 12, 29, 76]\n"
          ]
        },
        {
          "output_type": "execute_result",
          "data": {
            "text/plain": [
              "1"
            ]
          },
          "metadata": {},
          "execution_count": 9
        }
      ]
    },
    {
      "cell_type": "code",
      "metadata": {
        "colab": {
          "base_uri": "https://localhost:8080/"
        },
        "id": "PP2NR6funbFf",
        "outputId": "5304f78f-e444-40d8-aff5-71adcf17140e"
      },
      "source": [
        "list1 = [\"hue\", \"ha tinh\", 12, 29]\n",
        "list4=[12,\"abc\"]\n",
        "list1.extend (list4)\n",
        "print(list1)\n",
        "list1.remove(29)\n",
        "print(list1)"
      ],
      "execution_count": 10,
      "outputs": [
        {
          "output_type": "stream",
          "name": "stdout",
          "text": [
            "['hue', 'ha tinh', 12, 29, 12, 'abc']\n",
            "['hue', 'ha tinh', 12, 12, 'abc']\n"
          ]
        }
      ]
    }
  ]
}