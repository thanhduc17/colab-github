{
  "nbformat": 4,
  "nbformat_minor": 0,
  "metadata": {
    "colab": {
      "name": "bài tập thừa kế.ipynb",
      "provenance": [],
      "authorship_tag": "ABX9TyO6/ZZ5RWjlO7A47oa/5XZi",
      "include_colab_link": true
    },
    "kernelspec": {
      "name": "python3",
      "display_name": "Python 3"
    },
    "language_info": {
      "name": "python"
    }
  },
  "cells": [
    {
      "cell_type": "markdown",
      "metadata": {
        "id": "view-in-github",
        "colab_type": "text"
      },
      "source": [
        "<a href=\"https://colab.research.google.com/github/thanhduc17/colab-github/blob/main/b%C3%A0i_t%E1%BA%ADp_th%E1%BB%ABa_k%E1%BA%BF.ipynb\" target=\"_parent\"><img src=\"https://colab.research.google.com/assets/colab-badge.svg\" alt=\"Open In Colab\"/></a>"
      ]
    },
    {
      "cell_type": "code",
      "metadata": {
        "id": "_7aLVNnu4rlQ",
        "colab": {
          "base_uri": "https://localhost:8080/"
        },
        "outputId": "f6f824b4-12d7-4d2d-8c03-5882c99232d8"
      },
      "source": [
        "class Person():\n",
        "    name:str\n",
        "    gender:str\n",
        "    phone:int\n",
        "    def __init__(self, ten, gioitinh, dienthoai) -> None:\n",
        "        super().__init__()\n",
        "        self.name = ten\n",
        "        self.gender = gioitinh\n",
        "        self.phone = dienthoai\n",
        "    def outputPerson(self) -> str:\n",
        "        result = \" họ tên: \" + self.name + \"\\tgiới tính \" + self.gender + \"\\tđiện thoại: \" + str(self.phone)\n",
        "        return result\n",
        "class Student(Person):\n",
        "    studentID: bool\n",
        "    class1 : str\n",
        "    def __init__(self, ten, gioitinh, dienthoai, thehocsinh, lop) -> None:\n",
        "        Person.__init__(self, ten, gioitinh, dienthoai)\n",
        "        self.studentID = thehocsinh\n",
        "        self.class1 = lop\n",
        "\n",
        "    def outputstudent(self) -> str:\n",
        "        result = self.outputPerson() + \"\\n\\tthẻ học sinh: \" + str(self.studentID) + \"\\tlớp: \" + self.class1\n",
        "        return result\n",
        "class  Lecturer(Person):\n",
        "    lecturerID: str\n",
        "    yearsOfExperience: int\n",
        "    def __init__(self, ten, gioitinh, dienthoai, maGV, namkinhnghiem) -> None:\n",
        "        Person.__init__(self, ten, gioitinh, dienthoai)\n",
        "        self.lecturerID= maGV\n",
        "        self.yearsOfExperience = namkinhnghiem\n",
        "\n",
        "    def outputLecturer(self) -> str:\n",
        "        result = self.outputPerson() + \"\\n\\tmã GV: \" + self.lecturerID + \"\\t số năm kinh nghiệm: \" + str(self.yearsOfExperience)\n",
        "        return result\n",
        "def main():\n",
        "      thay = Lecturer(\"Lê Đình Thuận\",\"nam\",989043165,\"t1998t23\", 10)\n",
        "      duc = Student(\"Nguyễn thanh Đức\",\"nam\",926448869,True,\"khdl&ttnt\")\n",
        "      tai = Student(\"Lê văn tài\",\"nam\",957321056,True,\"10\")\n",
        "      print(thay.outputLecturer())\n",
        "      print(duc.outputstudent())\n",
        "      print(tai.outputstudent())\n",
        "if __name__ == \"__main__\":\n",
        "        main()\n"
      ],
      "execution_count": 8,
      "outputs": [
        {
          "output_type": "stream",
          "name": "stdout",
          "text": [
            " họ tên: Lê Đình Thuận\tgiới tính nam\tđiện thoại: 989043165\n",
            "\tmã GV: t1998t23\t số năm kinh nghiệm: 10\n",
            " họ tên: Nguyễn thanh Đức\tgiới tính nam\tđiện thoại: 926448869\n",
            "\tthẻ học sinh: True\tlớp: khdl&ttnt\n",
            " họ tên: Lê văn tài\tgiới tính nam\tđiện thoại: 957321056\n",
            "\tthẻ học sinh: True\tlớp: 10\n"
          ]
        }
      ]
    },
    {
      "cell_type": "code",
      "metadata": {
        "id": "ScD_VAs8uZr9"
      },
      "source": [
        ""
      ],
      "execution_count": null,
      "outputs": []
    }
  ]
}