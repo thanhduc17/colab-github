{
  "nbformat": 4,
  "nbformat_minor": 0,
  "metadata": {
    "colab": {
      "name": "bài tập tại lớp 1.ipynb",
      "provenance": [],
      "authorship_tag": "ABX9TyM3bdEPVPd1lFzETSwp/68H",
      "include_colab_link": true
    },
    "kernelspec": {
      "name": "python3",
      "display_name": "Python 3"
    },
    "language_info": {
      "name": "python"
    }
  },
  "cells": [
    {
      "cell_type": "markdown",
      "metadata": {
        "id": "view-in-github",
        "colab_type": "text"
      },
      "source": [
        "<a href=\"https://colab.research.google.com/github/thanhduc17/colab-github/blob/main/b%C3%A0i_t%E1%BA%ADp_t%E1%BA%A1i_l%E1%BB%9Bp_1.ipynb\" target=\"_parent\"><img src=\"https://colab.research.google.com/assets/colab-badge.svg\" alt=\"Open In Colab\"/></a>"
      ]
    },
    {
      "cell_type": "markdown",
      "metadata": {
        "id": "9moGULZfcW_f"
      },
      "source": [
        "Bài tập: Sử dụng PyCharm và G-colab viết chương trình in ra màn hình thông điệp: \"Tuân thủ nguyên tắc 5K để phòng chống COVID\"\n"
      ]
    },
    {
      "cell_type": "code",
      "metadata": {
        "colab": {
          "base_uri": "https://localhost:8080/"
        },
        "id": "hUbPbX3SblZd",
        "outputId": "3b97487f-78da-484f-cac8-59811c720bdf"
      },
      "source": [
        "print (\"Tuân thủ nguyên tắc 5K để phòng chống COVID\")"
      ],
      "execution_count": 1,
      "outputs": [
        {
          "output_type": "stream",
          "name": "stdout",
          "text": [
            "Tuân thủ nguyên tắc 5K để phòng chống COVID\n"
          ]
        }
      ]
    }
  ]
}