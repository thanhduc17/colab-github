{
  "nbformat": 4,
  "nbformat_minor": 0,
  "metadata": {
    "colab": {
      "name": "Bài tập tại lớp - phiên 2.ipynb",
      "provenance": [],
      "authorship_tag": "ABX9TyMkSrZmpP+LwC2/45/0DkHN",
      "include_colab_link": true
    },
    "kernelspec": {
      "name": "python3",
      "display_name": "Python 3"
    },
    "language_info": {
      "name": "python"
    }
  },
  "cells": [
    {
      "cell_type": "markdown",
      "metadata": {
        "id": "view-in-github",
        "colab_type": "text"
      },
      "source": [
        "<a href=\"https://colab.research.google.com/github/thanhduc17/colab-github/blob/main/B%C3%A0i_t%E1%BA%ADp_t%E1%BA%A1i_l%E1%BB%9Bp_phi%C3%AAn_2.ipynb\" target=\"_parent\"><img src=\"https://colab.research.google.com/assets/colab-badge.svg\" alt=\"Open In Colab\"/></a>"
      ]
    },
    {
      "cell_type": "code",
      "metadata": {
        "id": "kmwkeaGMco-6"
      },
      "source": [
        "tup1 = ('physics', 'chemistry', 1997, 2000)\n",
        "tup2 = (1, 2, 3, 4, 5 )\n",
        "tup3 = \"a\", \"b\", \"c\", \"d\"\n",
        "tup1 = ()\n",
        "tup1 = (50,)"
      ],
      "execution_count": 1,
      "outputs": []
    },
    {
      "cell_type": "code",
      "metadata": {
        "colab": {
          "base_uri": "https://localhost:8080/"
        },
        "id": "WQ7uBl8rdQP7",
        "outputId": "ce8943a8-846e-4991-abeb-0dc770ad7bb6"
      },
      "source": [
        "print(\"tup1[0]: \", tup1[0])\n",
        "print(\"tup2[1:5]: \", tup2[1:5])"
      ],
      "execution_count": 2,
      "outputs": [
        {
          "output_type": "stream",
          "name": "stdout",
          "text": [
            "tup1[0]:  50\n",
            "tup2[1:5]:  (2, 3, 4, 5)\n"
          ]
        }
      ]
    },
    {
      "cell_type": "code",
      "metadata": {
        "colab": {
          "base_uri": "https://localhost:8080/"
        },
        "id": "u4reZmErdR6E",
        "outputId": "d810bc25-f3ba-4a83-c022-80f71dae98c9"
      },
      "source": [
        "tup1 = (12, 34.56)\n",
        "tup2 = ('abc', 'xyz')\n",
        "tup3 = tup1 + tup2\n",
        "print(tup3)"
      ],
      "execution_count": 3,
      "outputs": [
        {
          "output_type": "stream",
          "name": "stdout",
          "text": [
            "(12, 34.56, 'abc', 'xyz')\n"
          ]
        }
      ]
    },
    {
      "cell_type": "code",
      "metadata": {
        "colab": {
          "base_uri": "https://localhost:8080/"
        },
        "id": "N-c9s1CvdcLS",
        "outputId": "981a0f34-9212-4924-d92f-e3ce92de5888"
      },
      "source": [
        "tup5 = ('physics', 'chemistry', 1997, 2000)\n",
        "print(tup5)\n"
      ],
      "execution_count": 4,
      "outputs": [
        {
          "output_type": "stream",
          "name": "stdout",
          "text": [
            "('physics', 'chemistry', 1997, 2000)\n"
          ]
        }
      ]
    },
    {
      "cell_type": "code",
      "metadata": {
        "colab": {
          "base_uri": "https://localhost:8080/"
        },
        "id": "Vs1TkEMReA5h",
        "outputId": "89e208a9-8818-4c55-c9b4-36b1be6d8e05"
      },
      "source": [
        "tup1 = ('physics', 'chemistry', 1997, 2000)\n",
        "tup2 = (1, 2, 3, 4, 5 )\n",
        "print(len(tup1))\n",
        "tup3=tup1 + tup2 \n",
        "print(tup3)\n",
        "print(tup1*3)\n",
        "print(4 in tup1)"
      ],
      "execution_count": 5,
      "outputs": [
        {
          "output_type": "stream",
          "name": "stdout",
          "text": [
            "4\n",
            "('physics', 'chemistry', 1997, 2000, 1, 2, 3, 4, 5)\n",
            "('physics', 'chemistry', 1997, 2000, 'physics', 'chemistry', 1997, 2000, 'physics', 'chemistry', 1997, 2000)\n",
            "False\n"
          ]
        }
      ]
    },
    {
      "cell_type": "code",
      "metadata": {
        "colab": {
          "base_uri": "https://localhost:8080/"
        },
        "id": "lqHlyguTegpB",
        "outputId": "85151ed7-a45a-480f-c63d-20486318e0cd"
      },
      "source": [
        "for x in (tup1):\n",
        " print (x)"
      ],
      "execution_count": 6,
      "outputs": [
        {
          "output_type": "stream",
          "name": "stdout",
          "text": [
            "physics\n",
            "chemistry\n",
            "1997\n",
            "2000\n"
          ]
        }
      ]
    },
    {
      "cell_type": "code",
      "metadata": {
        "colab": {
          "base_uri": "https://localhost:8080/"
        },
        "id": "AX3xSAXle7Yi",
        "outputId": "708f5fee-782d-47fd-989b-02844076d26b"
      },
      "source": [
        "print(tup1[2])\n",
        "print(tup1[-2])\n",
        "print(tup1[1:])"
      ],
      "execution_count": 7,
      "outputs": [
        {
          "output_type": "stream",
          "name": "stdout",
          "text": [
            "1997\n",
            "1997\n",
            "('chemistry', 1997, 2000)\n"
          ]
        }
      ]
    },
    {
      "cell_type": "code",
      "metadata": {
        "colab": {
          "base_uri": "https://localhost:8080/"
        },
        "id": "zSMintLmfQs4",
        "outputId": "02b44554-d925-45cf-bf00-8c6bfc28a33d"
      },
      "source": [
        "tup2 = (1, 2, 3, 4, 5 )\n",
        "print(len(tup2) )\n",
        "print(max(tup2) )\n",
        "print(min(tup2) )"
      ],
      "execution_count": 8,
      "outputs": [
        {
          "output_type": "stream",
          "name": "stdout",
          "text": [
            "5\n",
            "5\n",
            "1\n"
          ]
        }
      ]
    },
    {
      "cell_type": "markdown",
      "metadata": {
        "id": "u6Uw4Bo-fsqJ"
      },
      "source": [
        "Thao tác với Dictionary - Khởi tạo và truy cập Dictionary\n"
      ]
    },
    {
      "cell_type": "code",
      "metadata": {
        "colab": {
          "base_uri": "https://localhost:8080/"
        },
        "id": "OWKCXEV_fkC4",
        "outputId": "c6e540bd-c4c1-4842-f471-69e58a58bd60"
      },
      "source": [
        "dict1 = {'Name': 'Zara', 'Age': 7, 'Class': 'First'}\n",
        "print(\"dict1['Name']: \", dict1['Name'])\n",
        "print(\"dict1['Age']: \", dict1['Age'])"
      ],
      "execution_count": 9,
      "outputs": [
        {
          "output_type": "stream",
          "name": "stdout",
          "text": [
            "dict1['Name']:  Zara\n",
            "dict1['Age']:  7\n"
          ]
        }
      ]
    },
    {
      "cell_type": "code",
      "metadata": {
        "colab": {
          "base_uri": "https://localhost:8080/"
        },
        "id": "abSiq_rPf0TP",
        "outputId": "fd8f3de7-d4f1-409f-e82e-50904a998409"
      },
      "source": [
        "dict1 = {'Name': 'Zara', 'Age': 7, 'Class': 'First'}\n",
        "dict1['Age'] = 8\n",
        "dict1['School'] = \"DPS School\"\n",
        "print(\"dict['Age']: \", dict1['Age'])\n",
        "print(\"dict['School']: \", dict1['School'])"
      ],
      "execution_count": 10,
      "outputs": [
        {
          "output_type": "stream",
          "name": "stdout",
          "text": [
            "dict['Age']:  8\n",
            "dict['School']:  DPS School\n"
          ]
        }
      ]
    },
    {
      "cell_type": "code",
      "metadata": {
        "colab": {
          "base_uri": "https://localhost:8080/"
        },
        "id": "SdxDuxcBf-oY",
        "outputId": "9d602f22-d889-41ae-80af-84aa13dfaaa2"
      },
      "source": [
        "dict1 = {\"Name\": \"Zara\", \"Age\": 7, \"Class\": \"First\"}\n",
        "del dict1[\"Name\"]\n",
        "print(dict1)\n",
        "dict1.clear()\n",
        "del dict1\n"
      ],
      "execution_count": 11,
      "outputs": [
        {
          "output_type": "stream",
          "name": "stdout",
          "text": [
            "{'Age': 7, 'Class': 'First'}\n"
          ]
        }
      ]
    },
    {
      "cell_type": "code",
      "metadata": {
        "colab": {
          "base_uri": "https://localhost:8080/"
        },
        "id": "yqX2FIIygtrn",
        "outputId": "ba0f39cf-2f49-4742-eb8a-47802e2f3ffa"
      },
      "source": [
        "dict1 = {\"Name\": \"Zara\", \"Age\": 7, \"Class\": \"First\"}\n",
        "dist2 = {'Age': 7, 'Class': 'First'}\n",
        "print(len(dict1) )\n",
        "print(str(dict1) )"
      ],
      "execution_count": 12,
      "outputs": [
        {
          "output_type": "stream",
          "name": "stdout",
          "text": [
            "3\n",
            "{'Name': 'Zara', 'Age': 7, 'Class': 'First'}\n"
          ]
        }
      ]
    },
    {
      "cell_type": "code",
      "metadata": {
        "colab": {
          "base_uri": "https://localhost:8080/"
        },
        "id": "DGBmqzloh27W",
        "outputId": "cb3bb2d2-dd07-45d2-c2bf-a5df4b97d288"
      },
      "source": [
        "dict1.clear() \n",
        "print(dict1)\n",
        "dict1.copy() \n",
        "print(dict1)\n"
      ],
      "execution_count": 13,
      "outputs": [
        {
          "output_type": "stream",
          "name": "stdout",
          "text": [
            "{}\n",
            "{}\n"
          ]
        }
      ]
    },
    {
      "cell_type": "markdown",
      "metadata": {
        "id": "ro9yf-SPlaSy"
      },
      "source": [
        "Kiểu Set (kiểu tập hợp)"
      ]
    },
    {
      "cell_type": "code",
      "metadata": {
        "colab": {
          "base_uri": "https://localhost:8080/"
        },
        "id": "oDnM-hDwjTuN",
        "outputId": "3d396ec5-7c58-478d-bbad-6a79f413332e"
      },
      "source": [
        "Set = set([\"a\", \"b\", \"c\"])\n",
        "print(\"Set: \")\n",
        "print(Set)\n",
        "Set.add(\"d\")\n",
        "print(\"\\nSet after adding: \")\n",
        "print(Set)"
      ],
      "execution_count": 14,
      "outputs": [
        {
          "output_type": "stream",
          "name": "stdout",
          "text": [
            "Set: \n",
            "{'a', 'c', 'b'}\n",
            "\n",
            "Set after adding: \n",
            "{'d', 'a', 'c', 'b'}\n"
          ]
        }
      ]
    },
    {
      "cell_type": "code",
      "metadata": {
        "colab": {
          "base_uri": "https://localhost:8080/"
        },
        "id": "RAKbydREjZOT",
        "outputId": "f5fc1ebf-640f-4625-edc9-3a395111b611"
      },
      "source": [
        "people = {\"Jay\", \"Idrish\", \"Archi\"}\n",
        "print(\"People: \")\n",
        "print(people)\n",
        "people.add(\"Daxit\")\n",
        "print(people)"
      ],
      "execution_count": 15,
      "outputs": [
        {
          "output_type": "stream",
          "name": "stdout",
          "text": [
            "People: \n",
            "{'Jay', 'Idrish', 'Archi'}\n",
            "{'Jay', 'Daxit', 'Idrish', 'Archi'}\n"
          ]
        }
      ]
    },
    {
      "cell_type": "code",
      "metadata": {
        "colab": {
          "base_uri": "https://localhost:8080/"
        },
        "id": "86GkUWCMj1hr",
        "outputId": "4f999991-98a0-4354-b866-5eaddc9d43d6"
      },
      "source": [
        "Days=set([\"Mon\",\"Tue\",\"Wed\",\"Thu\",\"Fri\",\"Sat\"])\n",
        "Days.discard(\"Sun\")\n",
        "print(Days)"
      ],
      "execution_count": 16,
      "outputs": [
        {
          "output_type": "stream",
          "name": "stdout",
          "text": [
            "{'Wed', 'Mon', 'Thu', 'Tue', 'Fri', 'Sat'}\n"
          ]
        }
      ]
    },
    {
      "cell_type": "code",
      "metadata": {
        "colab": {
          "base_uri": "https://localhost:8080/"
        },
        "id": "t7aLBK6Uj3GK",
        "outputId": "4c1bf58a-7f64-41c6-a0ca-5d3558875d9d"
      },
      "source": [
        "set1 = {1,2,3,4,5,6}\n",
        "print(\"Initial set\")\n",
        "print(set1)\n",
        "set1.clear()\n",
        "print(\"\\nSet after using clear() function\")\n",
        "print(set1)"
      ],
      "execution_count": 17,
      "outputs": [
        {
          "output_type": "stream",
          "name": "stdout",
          "text": [
            "Initial set\n",
            "{1, 2, 3, 4, 5, 6}\n",
            "\n",
            "Set after using clear() function\n",
            "set()\n"
          ]
        }
      ]
    },
    {
      "cell_type": "code",
      "metadata": {
        "colab": {
          "base_uri": "https://localhost:8080/"
        },
        "id": "W4I5kwAmj9om",
        "outputId": "77279951-7375-4c69-fd25-32152da9a026"
      },
      "source": [
        "people = {\"Jay\", \"Idrish\", \"Archil\"}\n",
        "vampires = {\"Karan\", \"Arjun\"}\n",
        "dracula = {\"Deepanshu\", \"Raju\"}\n",
        "population = people.union(vampires)\n",
        "print(\"Union using union() function\")\n",
        "print(population)\n",
        "population = people|dracula\n",
        "print(\"\\nUnion using '|' operator\")\n",
        "print(population)"
      ],
      "execution_count": 18,
      "outputs": [
        {
          "output_type": "stream",
          "name": "stdout",
          "text": [
            "Union using union() function\n",
            "{'Idrish', 'Karan', 'Jay', 'Archil', 'Arjun'}\n",
            "\n",
            "Union using '|' operator\n",
            "{'Idrish', 'Deepanshu', 'Jay', 'Archil', 'Raju'}\n"
          ]
        }
      ]
    },
    {
      "cell_type": "code",
      "metadata": {
        "colab": {
          "base_uri": "https://localhost:8080/"
        },
        "id": "nMkF69HykGgr",
        "outputId": "90653bca-0fd7-4af0-d024-c99d9d4a074f"
      },
      "source": [
        "set1 = set()\n",
        "set2 = {3, 4, 5, 6, 7, 8}\n",
        "set3 = set1.intersection(set2)\n",
        "print(\"Intersection using intersection() function\")\n",
        "print(set3)\n",
        "set3 = set1 & set2\n",
        "print(\"\\nIntersection using '&' operator\")\n",
        "print(set3)"
      ],
      "execution_count": 19,
      "outputs": [
        {
          "output_type": "stream",
          "name": "stdout",
          "text": [
            "Intersection using intersection() function\n",
            "set()\n",
            "\n",
            "Intersection using '&' operator\n",
            "set()\n"
          ]
        }
      ]
    },
    {
      "cell_type": "code",
      "metadata": {
        "colab": {
          "base_uri": "https://localhost:8080/"
        },
        "id": "703qato0kTAq",
        "outputId": "04adb688-d72f-4df9-9d5c-2937870a1972"
      },
      "source": [
        "set1 = set()\n",
        "for i in range(5):\n",
        "  print(i)\n",
        "set2 = {3, 4, 5, 6, 7, 8}\n",
        "# Difference of two sets using difference() function\n",
        "set3 = set1.difference(set2)\n",
        "print(\" Difference of two sets using difference() function\")\n",
        "print(set3)\n",
        "# Difference of two sets using '-' operator\n",
        "set3 = set1 - set2\n",
        "print(\"\\nDifference of two sets using '-' operator\")\n",
        "print(set3)"
      ],
      "execution_count": 20,
      "outputs": [
        {
          "output_type": "stream",
          "name": "stdout",
          "text": [
            "0\n",
            "1\n",
            "2\n",
            "3\n",
            "4\n",
            " Difference of two sets using difference() function\n",
            "set()\n",
            "\n",
            "Difference of two sets using '-' operator\n",
            "set()\n"
          ]
        }
      ]
    },
    {
      "cell_type": "code",
      "metadata": {
        "colab": {
          "base_uri": "https://localhost:8080/"
        },
        "id": "xBdGkbGYkiX7",
        "outputId": "aa7dae09-0696-4e38-e858-66acbe74a449"
      },
      "source": [
        "DaysA = set([\"Mon\",\"Tue\",\"Wed\"])\n",
        "DaysB = set([\"Mon\",\"Tue\",\"Wed\",\"Thu\",\"Fri\",\"Sat\",\"Sun\"])\n",
        "SubsetRes = DaysA <= DaysB\n",
        "SupersetRes = DaysB >= DaysA\n",
        "print(SubsetRes)\n",
        "print(SupersetRes)"
      ],
      "execution_count": 21,
      "outputs": [
        {
          "output_type": "stream",
          "name": "stdout",
          "text": [
            "True\n",
            "True\n"
          ]
        }
      ]
    },
    {
      "cell_type": "markdown",
      "metadata": {
        "id": "jQidODO9lRMZ"
      },
      "source": [
        "Thao tác với Date&Time - Lấy thời gian hiện tại"
      ]
    },
    {
      "cell_type": "code",
      "metadata": {
        "colab": {
          "base_uri": "https://localhost:8080/"
        },
        "id": "k7E6XWUIkpd6",
        "outputId": "691fa44f-f61c-4b14-e681-a2cf533668cd"
      },
      "source": [
        "import time; \n",
        "ticks = time.time()\n",
        "print(\"Number of ticks since 12:00am, January 1, 1970:\", ticks)\n",
        "localtime = time.localtime(time.time())\n",
        "print(\"Local current time :\", localtime)"
      ],
      "execution_count": 22,
      "outputs": [
        {
          "output_type": "stream",
          "name": "stdout",
          "text": [
            "Number of ticks since 12:00am, January 1, 1970: 1637045506.879713\n",
            "Local current time : time.struct_time(tm_year=2021, tm_mon=11, tm_mday=16, tm_hour=6, tm_min=51, tm_sec=46, tm_wday=1, tm_yday=320, tm_isdst=0)\n"
          ]
        }
      ]
    },
    {
      "cell_type": "code",
      "metadata": {
        "colab": {
          "base_uri": "https://localhost:8080/"
        },
        "id": "6h_glYPklDGK",
        "outputId": "e4d6c11c-50b5-404e-c6c3-90565d64d9dd"
      },
      "source": [
        "import time;\n",
        "localtime = time.asctime( time.localtime(time.time()) )\n",
        "print(\"Local current time :\", localtime)"
      ],
      "execution_count": 23,
      "outputs": [
        {
          "output_type": "stream",
          "name": "stdout",
          "text": [
            "Local current time : Tue Nov 16 06:51:48 2021\n"
          ]
        }
      ]
    },
    {
      "cell_type": "code",
      "metadata": {
        "colab": {
          "base_uri": "https://localhost:8080/"
        },
        "id": "RlS_Sc4jlIrz",
        "outputId": "22df0ed9-b289-437e-e925-17e5348a794b"
      },
      "source": [
        "import calendar\n",
        "cal = calendar.month(2008, 1)\n",
        "print(\"Here is the calendar:\")\n",
        "print(cal)"
      ],
      "execution_count": 24,
      "outputs": [
        {
          "output_type": "stream",
          "name": "stdout",
          "text": [
            "Here is the calendar:\n",
            "    January 2008\n",
            "Mo Tu We Th Fr Sa Su\n",
            "    1  2  3  4  5  6\n",
            " 7  8  9 10 11 12 13\n",
            "14 15 16 17 18 19 20\n",
            "21 22 23 24 25 26 27\n",
            "28 29 30 31\n",
            "\n"
          ]
        }
      ]
    }
  ]
}