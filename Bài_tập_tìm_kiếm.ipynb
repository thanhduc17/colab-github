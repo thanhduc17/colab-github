{
  "nbformat": 4,
  "nbformat_minor": 0,
  "metadata": {
    "colab": {
      "name": "Bài tập tìm kiếm.ipynb",
      "provenance": [],
      "authorship_tag": "ABX9TyNwQq7P3l9kA+lZaLXz1UoB",
      "include_colab_link": true
    },
    "kernelspec": {
      "name": "python3",
      "display_name": "Python 3"
    },
    "language_info": {
      "name": "python"
    }
  },
  "cells": [
    {
      "cell_type": "markdown",
      "metadata": {
        "id": "view-in-github",
        "colab_type": "text"
      },
      "source": [
        "<a href=\"https://colab.research.google.com/github/thanhduc17/colab-github/blob/main/B%C3%A0i_t%E1%BA%ADp_t%C3%ACm_ki%E1%BA%BFm.ipynb\" target=\"_parent\"><img src=\"https://colab.research.google.com/assets/colab-badge.svg\" alt=\"Open In Colab\"/></a>"
      ]
    },
    {
      "cell_type": "markdown",
      "metadata": {
        "id": "LkOjZGbNvqaS"
      },
      "source": [
        "Bài 1: Viết chương trình thực hiện các yêu cầu sau:\n",
        "- Sinh ngẫu nhiên 1 danh sách n số nguyên trong đoạn [a, b], với các thông số n, a và b được\n",
        "nhập vào từ bàn phím;\n",
        "- Nhập vào 1 số x từ bàn phím có giá trị trong đoạn [a, b];\n",
        "- Tìm kiếm x có xuất hiện trong danh sách trên hay không. Nếu có thì trả về vị trí xuất hiện\n",
        "đầu tiên trong danh sách. Ngược lại, thông báo không tìm thấy."
      ]
    },
    {
      "cell_type": "code",
      "metadata": {
        "colab": {
          "base_uri": "https://localhost:8080/"
        },
        "id": "rdfVyIhGuX-n",
        "outputId": "ef559d15-9736-4079-cfad-144eb17898a0"
      },
      "source": [
        "def danh_sach_so_nguyen_ngau_nhien(n,b,a):\n",
        "      import random\n",
        "      count=0\n",
        "      list1=[]\n",
        "      while count<n:\n",
        "        t=random.randrange(a,b+1)\n",
        "        list1.append(t)\n",
        "        count+=1\n",
        "      print(\"Danh sách ngẫu nhiên là:\",list1)\n",
        "\n",
        "      ketqua=[]\n",
        "      x=int(input(\"Mời nhập 1 số bất kì trong đoạn [a,b]:\"))\n",
        "      for i in range(0,len(list1)):\n",
        "        if ( list1[i]==x ):\n",
        "          ketqua.append(i)\n",
        "          count +=1\n",
        "      if len(ketqua)>0:\n",
        "        print(\"Vị trí xuất hiện đầu tiên của\",x,\"là:\",ketqua[0]+1)\n",
        "      else:\n",
        "        print(\"Không tìm thấy !\")\n",
        "      return ketqua\n",
        "\n",
        "def main():\n",
        "  n=int(input(\"Mời nhập số phần tử:\"))\n",
        "  a=int(input(\"Mời nhập giá trị bắt đầu:\"))\n",
        "  b=int(input(\"Mời nhập giá trị kết thúc:\"))\n",
        "  c = danh_sach_so_nguyen_ngau_nhien(n,b,a)\n",
        "\n",
        "if (__name__==\"__main__\"):\n",
        "  main()\n",
        "      \n"
      ],
      "execution_count": 41,
      "outputs": [
        {
          "output_type": "stream",
          "name": "stdout",
          "text": [
            "Mời nhập số phần tử:4\n",
            "Mời nhập giá trị bắt đầu:5\n",
            "Mời nhập giá trị kết thúc:56\n",
            "Danh sách ngẫu nhiên là: [15, 33, 26, 18]\n",
            "Mời nhập 1 số bất kì trong đoạn [a,b]:26\n",
            "Vị trí xuất hiện đầu tiên của 26 là: 3\n"
          ]
        }
      ]
    },
    {
      "cell_type": "code",
      "metadata": {
        "colab": {
          "base_uri": "https://localhost:8080/"
        },
        "id": "yzOll35Auu3z",
        "outputId": "785674f7-1fba-406a-8b65-258965f7e103"
      },
      "source": [
        "def danh_sach_so_nguyen_ngau_nhien(n,b,a):\n",
        "      import random\n",
        "      count=0\n",
        "      list1=[]\n",
        "      while count<n:\n",
        "        t=random.randrange(a,b+1)\n",
        "        list1.append(t)\n",
        "        count+=1\n",
        "      print(\"Danh sách ngẫu nhiên là:\",list1)\n",
        "\n",
        "      ketqua=[]\n",
        "      x=int(input(\"Mời nhập 1 số bất kì trong đoạn [a,b]:\"))\n",
        "      for i in range(0,len(list1)):\n",
        "        if ( list1[i]==x ):\n",
        "          ketqua.append(i)\n",
        "          count +=1\n",
        "      if len(ketqua)>0:\n",
        "        print(\"Số bước lặp để tìm được phần tử là:\",count)\n",
        "        print(\"Vị trí xuất hiện đầu tiên của\",x,\"là:\",ketqua[0]+1)\n",
        "        \n",
        "      else:\n",
        "        print(\"Không tìm thấy !\")\n",
        "      return ketqua\n",
        "\n",
        "def main():\n",
        "  n=int(input(\"Mời nhập số phần tử:\"))\n",
        "  a=int(input(\"Mời nhập giá trị bắt đầu:\"))\n",
        "  b=int(input(\"Mời nhập giá trị kết thúc:\"))\n",
        "  c = danh_sach_so_nguyen_ngau_nhien(n,b,a)\n",
        "\n",
        "if (__name__==\"__main__\"):\n",
        "  main()\n",
        "      \n",
        "\n",
        "  \n"
      ],
      "execution_count": 43,
      "outputs": [
        {
          "output_type": "stream",
          "name": "stdout",
          "text": [
            "Mời nhập số phần tử:12\n",
            "Mời nhập giá trị bắt đầu:23\n",
            "Mời nhập giá trị kết thúc:458\n",
            "Danh sách ngẫu nhiên là: [150, 222, 143, 447, 242, 79, 197, 83, 297, 60, 133, 202]\n",
            "Mời nhập 1 số bất kì trong đoạn [a,b]:202\n",
            "Số bước lặp để tìm được phần tử là: 13\n",
            "Vị trí xuất hiện đầu tiên của 202 là: 12\n"
          ]
        }
      ]
    },
    {
      "cell_type": "code",
      "metadata": {
        "id": "r9-zIuS5_-Bw"
      },
      "source": [
        ""
      ],
      "execution_count": null,
      "outputs": []
    },
    {
      "cell_type": "code",
      "metadata": {
        "colab": {
          "base_uri": "https://localhost:8080/"
        },
        "id": "OGwnK3-_AB_U",
        "outputId": "60e0ce80-064e-41d8-95f2-0420403d293e"
      },
      "source": [
        "def danh_sach_so_nguyen_ngau_nhien(n,b,a):\n",
        "      import random\n",
        "      count=0\n",
        "      list1=[]\n",
        "      while count<n:\n",
        "        t=random.randrange(a,b+1)\n",
        "        list1.append(t)\n",
        "        count+=1\n",
        "      print(\"Danh sách ngẫu nhiên là:\",list1)\n",
        "      x=int(input(\"Mời nhập 1 số bất kì trong đoạn [a,b]:\"))\n",
        "      for k in range(0,len(list1)):\n",
        "          for l in range(k+1,len(list1)):\n",
        "            if list1[k]>list1[l]:\n",
        "              list1[k],list1[l]=list1[l],list1[k]\n",
        "      print(\"Danh sách sau khi được sắp xếp tăng dần là:\",list1)\n",
        "      ketqua=[]\n",
        "      for i in range(0,len(list1)):\n",
        "        if ( list1[i]==x ):\n",
        "          ketqua.append(i)\n",
        "          count +=1\n",
        "      if len(ketqua)>0:\n",
        "        print(\"Số bước lặp để tìm được phần tử là:\",count)\n",
        "        print(\"Vị trí xuất hiện đầu tiên của\",x,\"là:\",ketqua[0]+1)\n",
        "        \n",
        "      else:\n",
        "        print(\"Không tìm thấy !\")\n",
        "      return ketqua\n",
        "\n",
        "def main():\n",
        "  n=int(input(\"Mời nhập số phần tử:\"))\n",
        "  a=int(input(\"Mời nhập giá trị bắt đầu:\"))\n",
        "  b=int(input(\"Mời nhập giá trị kết thúc:\"))\n",
        "  c = danh_sach_so_nguyen_ngau_nhien(n,b,a)\n",
        "\n",
        "if (__name__==\"__main__\"):\n",
        "  main()"
      ],
      "execution_count": 45,
      "outputs": [
        {
          "output_type": "stream",
          "name": "stdout",
          "text": [
            "Mời nhập số phần tử:5\n",
            "Mời nhập giá trị bắt đầu:6\n",
            "Mời nhập giá trị kết thúc:78\n",
            "Danh sách ngẫu nhiên là: [13, 6, 28, 8, 26]\n",
            "Mời nhập 1 số bất kì trong đoạn [a,b]:26\n",
            "Danh sách sau khi được sắp xếp tăng dần là: [6, 8, 13, 26, 28]\n",
            "Số bước lặp để tìm được phần tử là: 6\n",
            "Vị trí xuất hiện đầu tiên của 26 là: 4\n"
          ]
        }
      ]
    },
    {
      "cell_type": "code",
      "metadata": {
        "id": "BkXThVZHCF5O"
      },
      "source": [
        ""
      ],
      "execution_count": null,
      "outputs": []
    },
    {
      "cell_type": "code",
      "metadata": {
        "colab": {
          "base_uri": "https://localhost:8080/"
        },
        "id": "ydfdPsh0CJOE",
        "outputId": "d0a7bc94-7a20-4ad0-ac6d-82bcd1fad7a0"
      },
      "source": [
        "def danh_sach_so_nguyen_ngau_nhien(n,b,a):\n",
        "      import random\n",
        "      count=0\n",
        "      list1=[]\n",
        "      while count<n:\n",
        "        t=random.randrange(a,b+1)\n",
        "        list1.append(t)\n",
        "        count+=1\n",
        "      print(\"Danh sách ngẫu nhiên là:\",list1)\n",
        "      x=int(input(\"Mời nhập 1 số bất kì trong đoạn [a,b]:\"))\n",
        "      for k in range(0,len(list1)):\n",
        "          for l in range(k+1,len(list1)):\n",
        "            if list1[k]>list1[l]:\n",
        "              list1[k],list1[l]=list1[l],list1[k]\n",
        "      print(\"Danh sách sau khi được sắp xếp tăng dần là:\",list1)\n",
        "      ketqua=[]\n",
        "      for i in range(0,len(list1)):\n",
        "        if ( list1[i]==x ):\n",
        "          ketqua.append(i)\n",
        "          count +=1\n",
        "      if len(ketqua)>0:\n",
        "          print(\"Vị trí xuất hiện của\",x,\"là:\")\n",
        "          for m in ketqua:\n",
        "            print(m,end=\",\")\n",
        "            print(\"\\nSố bước lặp để tìm thấy phần tử là:\",count)\n",
        "        \n",
        "      else:\n",
        "        print(\"Không tìm thấy !\")\n",
        "      return ketqua\n",
        "\n",
        "def main():\n",
        "  n=int(input(\"Mời nhập số phần tử:\"))\n",
        "  a=int(input(\"Mời nhập giá trị bắt đầu:\"))\n",
        "  b=int(input(\"Mời nhập giá trị kết thúc:\"))\n",
        "  c = danh_sach_so_nguyen_ngau_nhien(n,b,a)\n",
        "\n",
        "if (__name__==\"__main__\"):\n",
        "  main()"
      ],
      "execution_count": 51,
      "outputs": [
        {
          "output_type": "stream",
          "name": "stdout",
          "text": [
            "Mời nhập số phần tử:3\n",
            "Mời nhập giá trị bắt đầu:65\n",
            "Mời nhập giá trị kết thúc:567\n",
            "Danh sách ngẫu nhiên là: [206, 199, 390]\n",
            "Mời nhập 1 số bất kì trong đoạn [a,b]:206\n",
            "Danh sách sau khi được sắp xếp tăng dần là: [199, 206, 390]\n",
            "Vị trí xuất hiện của 206 là:\n",
            "1,\n",
            "Số bước lặp để tìm thấy phần tử là: 4\n"
          ]
        }
      ]
    }
  ]
}