{
  "nbformat": 4,
  "nbformat_minor": 0,
  "metadata": {
    "colab": {
      "name": "Bài tập tìm kiếm.ipynb",
      "provenance": [],
      "authorship_tag": "ABX9TyP2TVwq4GybDRdK0fZAVnbr",
      "include_colab_link": true
    },
    "kernelspec": {
      "name": "python3",
      "display_name": "Python 3"
    },
    "language_info": {
      "name": "python"
    }
  },
  "cells": [
    {
      "cell_type": "markdown",
      "metadata": {
        "id": "view-in-github",
        "colab_type": "text"
      },
      "source": [
        "<a href=\"https://colab.research.google.com/github/thanhduc17/colab-github/blob/main/B%C3%A0i_t%E1%BA%ADp_t%C3%ACm_ki%E1%BA%BFm.ipynb\" target=\"_parent\"><img src=\"https://colab.research.google.com/assets/colab-badge.svg\" alt=\"Open In Colab\"/></a>"
      ]
    },
    {
      "cell_type": "markdown",
      "metadata": {
        "id": "LkOjZGbNvqaS"
      },
      "source": [
        "Bài 1: Viết chương trình thực hiện các yêu cầu sau:\n",
        "- Sinh ngẫu nhiên 1 danh sách n số nguyên trong đoạn [a, b], với các thông số n, a và b được\n",
        "nhập vào từ bàn phím;\n",
        "- Nhập vào 1 số x từ bàn phím có giá trị trong đoạn [a, b];\n",
        "- Tìm kiếm x có xuất hiện trong danh sách trên hay không. Nếu có thì trả về vị trí xuất hiện\n",
        "đầu tiên trong danh sách. Ngược lại, thông báo không tìm thấy."
      ]
    },
    {
      "cell_type": "code",
      "metadata": {
        "colab": {
          "base_uri": "https://localhost:8080/"
        },
        "id": "rdfVyIhGuX-n",
        "outputId": "ef559d15-9736-4079-cfad-144eb17898a0"
      },
      "source": [
        "def danh_sach_so_nguyen_ngau_nhien(n,b,a):\n",
        "      import random\n",
        "      count=0\n",
        "      list1=[]\n",
        "      while count<n:\n",
        "        t=random.randrange(a,b+1)\n",
        "        list1.append(t)\n",
        "        count+=1\n",
        "      print(\"Danh sách ngẫu nhiên là:\",list1)\n",
        "\n",
        "      ketqua=[]\n",
        "      x=int(input(\"Mời nhập 1 số bất kì trong đoạn [a,b]:\"))\n",
        "      for i in range(0,len(list1)):\n",
        "        if ( list1[i]==x ):\n",
        "          ketqua.append(i)\n",
        "          count +=1\n",
        "      if len(ketqua)>0:\n",
        "        print(\"Vị trí xuất hiện đầu tiên của\",x,\"là:\",ketqua[0]+1)\n",
        "      else:\n",
        "        print(\"Không tìm thấy !\")\n",
        "      return ketqua\n",
        "\n",
        "def main():\n",
        "  n=int(input(\"Mời nhập số phần tử:\"))\n",
        "  a=int(input(\"Mời nhập giá trị bắt đầu:\"))\n",
        "  b=int(input(\"Mời nhập giá trị kết thúc:\"))\n",
        "  c = danh_sach_so_nguyen_ngau_nhien(n,b,a)\n",
        "\n",
        "if (__name__==\"__main__\"):\n",
        "  main()\n",
        "      \n"
      ],
      "execution_count": null,
      "outputs": [
        {
          "output_type": "stream",
          "name": "stdout",
          "text": [
            "Mời nhập số phần tử:4\n",
            "Mời nhập giá trị bắt đầu:5\n",
            "Mời nhập giá trị kết thúc:56\n",
            "Danh sách ngẫu nhiên là: [15, 33, 26, 18]\n",
            "Mời nhập 1 số bất kì trong đoạn [a,b]:26\n",
            "Vị trí xuất hiện đầu tiên của 26 là: 3\n"
          ]
        }
      ]
    },
    {
      "cell_type": "code",
      "metadata": {
        "colab": {
          "base_uri": "https://localhost:8080/"
        },
        "id": "yzOll35Auu3z",
        "outputId": "785674f7-1fba-406a-8b65-258965f7e103"
      },
      "source": [
        "def danh_sach_so_nguyen_ngau_nhien(n,b,a):\n",
        "      import random\n",
        "      count=0\n",
        "      list1=[]\n",
        "      while count<n:\n",
        "        t=random.randrange(a,b+1)\n",
        "        list1.append(t)\n",
        "        count+=1\n",
        "      print(\"Danh sách ngẫu nhiên là:\",list1)\n",
        "\n",
        "      ketqua=[]\n",
        "      x=int(input(\"Mời nhập 1 số bất kì trong đoạn [a,b]:\"))\n",
        "      for i in range(0,len(list1)):\n",
        "        if ( list1[i]==x ):\n",
        "          ketqua.append(i)\n",
        "          count +=1\n",
        "      if len(ketqua)>0:\n",
        "        print(\"Số bước lặp để tìm được phần tử là:\",count)\n",
        "        print(\"Vị trí xuất hiện đầu tiên của\",x,\"là:\",ketqua[0]+1)\n",
        "        \n",
        "      else:\n",
        "        print(\"Không tìm thấy !\")\n",
        "      return ketqua\n",
        "\n",
        "def main():\n",
        "  n=int(input(\"Mời nhập số phần tử:\"))\n",
        "  a=int(input(\"Mời nhập giá trị bắt đầu:\"))\n",
        "  b=int(input(\"Mời nhập giá trị kết thúc:\"))\n",
        "  c = danh_sach_so_nguyen_ngau_nhien(n,b,a)\n",
        "\n",
        "if (__name__==\"__main__\"):\n",
        "  main()\n",
        "      \n",
        "\n",
        "  \n"
      ],
      "execution_count": null,
      "outputs": [
        {
          "output_type": "stream",
          "name": "stdout",
          "text": [
            "Mời nhập số phần tử:12\n",
            "Mời nhập giá trị bắt đầu:23\n",
            "Mời nhập giá trị kết thúc:458\n",
            "Danh sách ngẫu nhiên là: [150, 222, 143, 447, 242, 79, 197, 83, 297, 60, 133, 202]\n",
            "Mời nhập 1 số bất kì trong đoạn [a,b]:202\n",
            "Số bước lặp để tìm được phần tử là: 13\n",
            "Vị trí xuất hiện đầu tiên của 202 là: 12\n"
          ]
        }
      ]
    },
    {
      "cell_type": "code",
      "metadata": {
        "id": "r9-zIuS5_-Bw"
      },
      "source": [
        ""
      ],
      "execution_count": null,
      "outputs": []
    },
    {
      "cell_type": "code",
      "metadata": {
        "colab": {
          "base_uri": "https://localhost:8080/"
        },
        "id": "OGwnK3-_AB_U",
        "outputId": "2fbadc2b-bb12-47ff-b3cb-f844d345468c"
      },
      "source": [
        "def danh_sach_so_nguyen_ngau_nhien(n,b,a):\n",
        "      import random\n",
        "      count=0\n",
        "      list1=[]\n",
        "      while count<n:\n",
        "        t=random.randrange(a,b+1)\n",
        "        list1.append(t)\n",
        "        count+=1\n",
        "      print(\"Danh sách ngẫu nhiên là:\",list1)\n",
        "      \n",
        "      for k in range(0,len(list1)):\n",
        "          for l in range(k+1,len(list1)):\n",
        "            if list1[k]>list1[l]:\n",
        "              list1[k],list1[l]=list1[l],list1[k]\n",
        "      print(\"Danh sách sau khi được sắp xếp tăng dần là:\",list1)\n",
        "      ketqua=[]\n",
        "      count = 0\n",
        "      x=int(input(\"Mời nhập 1 số bất kì trong đoạn [a,b]:\"))\n",
        "      for i in range(0,len(list1)):\n",
        "        if ( list1[i]==x ):\n",
        "          ketqua.append(i)\n",
        "          count +=1\n",
        "      if len(ketqua)>0:\n",
        "        print(\"Số bước lặp để tìm được phần tử là:\",count)\n",
        "        print(\"Vị trí xuất hiện đầu tiên của\",x,\"là:\",ketqua[0]+1)\n",
        "        \n",
        "      else:\n",
        "        print(\"Không tìm thấy !\")\n",
        "      return ketqua\n",
        "\n",
        "def main():\n",
        "  n=int(input(\"Mời nhập số phần tử:\"))\n",
        "  a=int(input(\"Mời nhập giá trị bắt đầu:\"))\n",
        "  b=int(input(\"Mời nhập giá trị kết thúc:\"))\n",
        "  c = danh_sach_so_nguyen_ngau_nhien(n,b,a)\n",
        "\n",
        "if (__name__==\"__main__\"):\n",
        "  main()"
      ],
      "execution_count": 11,
      "outputs": [
        {
          "output_type": "stream",
          "name": "stdout",
          "text": [
            "Mời nhập số phần tử:12\n",
            "Mời nhập giá trị bắt đầu:45\n",
            "Mời nhập giá trị kết thúc:67\n",
            "Danh sách ngẫu nhiên là: [66, 61, 57, 50, 46, 53, 61, 45, 67, 50, 62, 57]\n",
            "Danh sách sau khi được sắp xếp tăng dần là: [45, 46, 50, 50, 53, 57, 57, 61, 61, 62, 66, 67]\n",
            "Mời nhập 1 số bất kì trong đoạn [a,b]:45\n",
            "Số bước lặp để tìm được phần tử là: 1\n",
            "Vị trí xuất hiện đầu tiên của 45 là: 1\n"
          ]
        }
      ]
    },
    {
      "cell_type": "code",
      "metadata": {
        "id": "BkXThVZHCF5O"
      },
      "source": [
        ""
      ],
      "execution_count": null,
      "outputs": []
    },
    {
      "cell_type": "code",
      "metadata": {
        "colab": {
          "base_uri": "https://localhost:8080/"
        },
        "id": "ydfdPsh0CJOE",
        "outputId": "7530329e-3635-476f-e0c2-747cae070ee2"
      },
      "source": [
        "def danh_sach_so_nguyen_ngau_nhien(n,b,a):\n",
        "      import random\n",
        "      count=0\n",
        "      list1=[]\n",
        "      while count<n:\n",
        "        t=random.randrange(a,b+1)\n",
        "        list1.append(t)\n",
        "        count+=1\n",
        "      print(\"Danh sách ngẫu nhiên là:\",list1)\n",
        "      \n",
        "      for k in range(0,len(list1)):\n",
        "          for l in range(k+1,len(list1)):\n",
        "            if list1[k]>list1[l]:\n",
        "              list1[k],list1[l]=list1[l],list1[k]\n",
        "      print(\"Danh sách sau khi được sắp xếp tăng dần là:\",list1)\n",
        "      ketqua=[]\n",
        "      lap = []\n",
        "      count = 0\n",
        "      x=int(input(\"Mời nhập 1 số bất kì trong đoạn [a,b]:\"))\n",
        "      for i in range(0,len(list1)):\n",
        "        if ( list1[i]==x ):\n",
        "          ketqua.append(i)\n",
        "          lap.append(count)\n",
        "        count += 1\n",
        "      if len(ketqua)>0:\n",
        "          print(\"Vị trí xuất hiện của\",x,\"là:\",ketqua)\n",
        "          print(\"\\nSố bước lặp để tìm thấy phần tử là:\",lap)\n",
        "        \n",
        "      else:\n",
        "        print(\"Không tìm thấy !\")\n",
        "      return ketqua\n",
        "\n",
        "def main():\n",
        "  n=int(input(\"Mời nhập số phần tử:\"))\n",
        "  a=int(input(\"Mời nhập giá trị bắt đầu:\"))\n",
        "  b=int(input(\"Mời nhập giá trị kết thúc:\"))\n",
        "  c = danh_sach_so_nguyen_ngau_nhien(n,b,a)\n",
        "\n",
        "if (__name__==\"__main__\"):\n",
        "  main()"
      ],
      "execution_count": 3,
      "outputs": [
        {
          "output_type": "stream",
          "name": "stdout",
          "text": [
            "Mời nhập số phần tử:100\n",
            "Mời nhập giá trị bắt đầu:-5\n",
            "Mời nhập giá trị kết thúc:7\n",
            "Danh sách ngẫu nhiên là: [5, -2, 2, 0, 2, -4, 1, 1, -3, 5, -1, 1, 3, 1, 3, 4, -2, -1, -2, 1, 0, -5, -3, 3, 3, 1, 7, 4, 5, 0, 5, -1, 1, 4, -5, -1, 0, 1, 2, 7, 7, 1, -3, 5, -5, -5, 6, -5, -5, 0, 3, 2, -2, 7, -2, 6, 0, -1, 4, 3, 6, 0, 5, 5, -3, 2, -3, -2, -2, 6, -3, -1, 2, 7, -1, 7, 4, -4, -3, 3, -5, -2, -3, 7, 4, 7, 3, -5, -1, 2, 4, 0, -2, -5, 4, -2, 5, 4, 0, -2]\n",
            "Danh sách sau khi được sắp xếp tăng dần là: [-5, -5, -5, -5, -5, -5, -5, -5, -5, -4, -4, -3, -3, -3, -3, -3, -3, -3, -3, -2, -2, -2, -2, -2, -2, -2, -2, -2, -2, -2, -1, -1, -1, -1, -1, -1, -1, -1, 0, 0, 0, 0, 0, 0, 0, 0, 0, 1, 1, 1, 1, 1, 1, 1, 1, 1, 2, 2, 2, 2, 2, 2, 2, 3, 3, 3, 3, 3, 3, 3, 3, 4, 4, 4, 4, 4, 4, 4, 4, 4, 5, 5, 5, 5, 5, 5, 5, 5, 6, 6, 6, 6, 7, 7, 7, 7, 7, 7, 7, 7]\n",
            "Mời nhập 1 số bất kì trong đoạn [a,b]:4\n",
            "Vị trí xuất hiện của 4 là: [71, 72, 73, 74, 75, 76, 77, 78, 79]\n",
            "\n",
            "Số bước lặp để tìm thấy phần tử là: [71, 72, 73, 74, 75, 76, 77, 78, 79]\n"
          ]
        }
      ]
    }
  ]
}