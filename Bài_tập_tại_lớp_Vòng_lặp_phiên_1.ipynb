{
  "nbformat": 4,
  "nbformat_minor": 0,
  "metadata": {
    "colab": {
      "name": "Bài tập tại lớp - Vòng lặp - phiên 1.ipynb",
      "provenance": [],
      "authorship_tag": "ABX9TyPImnZtedK8Xi3lLWlPB4EA",
      "include_colab_link": true
    },
    "kernelspec": {
      "name": "python3",
      "display_name": "Python 3"
    },
    "language_info": {
      "name": "python"
    }
  },
  "cells": [
    {
      "cell_type": "markdown",
      "metadata": {
        "id": "view-in-github",
        "colab_type": "text"
      },
      "source": [
        "<a href=\"https://colab.research.google.com/github/thanhduc17/colab-github/blob/main/B%C3%A0i_t%E1%BA%ADp_t%E1%BA%A1i_l%E1%BB%9Bp_V%C3%B2ng_l%E1%BA%B7p_phi%C3%AAn_1.ipynb\" target=\"_parent\"><img src=\"https://colab.research.google.com/assets/colab-badge.svg\" alt=\"Open In Colab\"/></a>"
      ]
    },
    {
      "cell_type": "markdown",
      "metadata": {
        "id": "M_83GMJX_CKk"
      },
      "source": [
        "Exercise 1: Print First 10 natural numbers using while loop"
      ]
    },
    {
      "cell_type": "code",
      "metadata": {
        "colab": {
          "base_uri": "https://localhost:8080/"
        },
        "id": "x0PvE8Ht-9HY",
        "outputId": "dc598849-8693-4cd7-85ac-d42354253adf"
      },
      "source": [
        "count=0\n",
        "while(count<10):\n",
        "    print(count,end=\" \")\n",
        "    count=count+1"
      ],
      "execution_count": 76,
      "outputs": [
        {
          "output_type": "stream",
          "name": "stdout",
          "text": [
            "0 1 2 3 4 5 6 7 8 9 "
          ]
        }
      ]
    },
    {
      "cell_type": "markdown",
      "metadata": {
        "id": "GgY2dZon_PB6"
      },
      "source": [
        "\n",
        "Exercise 2: Print the following pattern\n",
        "\n",
        "5 4 3 2 1\n",
        "\n",
        "4 3 2 1\n",
        "\n",
        "3 2 1\n",
        "\n",
        "2 1\n",
        "\n",
        "1\n"
      ]
    },
    {
      "cell_type": "code",
      "metadata": {
        "id": "3zywLVmk_g2K",
        "colab": {
          "base_uri": "https://localhost:8080/"
        },
        "outputId": "5685e5f5-e329-4b58-e742-4a5f17187c17"
      },
      "source": [
        "count = 5\n",
        "for i in range(count,0,-1) :\n",
        "    for j in range(i,0,-1):\n",
        "        print(j,end=\" \")\n",
        "    print(\" \")"
      ],
      "execution_count": 90,
      "outputs": [
        {
          "output_type": "stream",
          "name": "stdout",
          "text": [
            "5 4 3 2 1  \n",
            "4 3 2 1  \n",
            "3 2 1  \n",
            "2 1  \n",
            "1  \n"
          ]
        }
      ]
    },
    {
      "cell_type": "markdown",
      "metadata": {
        "id": "TInr6lJS_ayi"
      },
      "source": [
        "Exercise 3: Calculate the sum of all numbers from 1 to a given number\n"
      ]
    },
    {
      "cell_type": "code",
      "metadata": {
        "id": "J7VqLlojasI3",
        "colab": {
          "base_uri": "https://localhost:8080/"
        },
        "outputId": "4eb7242b-271e-4122-dc29-c2b3f6c877f8"
      },
      "source": [
        "i=int(input(\"mời nhập một số:\"))\n",
        "j=0\n",
        "for k in range(1,i+1):\n",
        "  j=j+k\n",
        "print(\"Tổng các số từ 1 tới\",i,\"là:\",j)"
      ],
      "execution_count": 77,
      "outputs": [
        {
          "output_type": "stream",
          "name": "stdout",
          "text": [
            "mời nhập một số:5\n",
            "Tổng các số từ 1 tới 5 là: 15\n"
          ]
        }
      ]
    },
    {
      "cell_type": "markdown",
      "metadata": {
        "id": "4N6togIWCIoQ"
      },
      "source": [
        "Exercise 4: Write a program to print multiplication table of a given number with natural numbers\n",
        "from 1 to 10."
      ]
    },
    {
      "cell_type": "code",
      "metadata": {
        "colab": {
          "base_uri": "https://localhost:8080/"
        },
        "id": "geFkr1yRAN5i",
        "outputId": "64adb15b-ba99-489f-fed7-26297822dd46"
      },
      "source": [
        "num = int(input(\"mời nhập vào 1 số nguyên n :\"))\n",
        "for i in range(1,11): \n",
        "  print(num,\"x\",i,\"=\",num*i)"
      ],
      "execution_count": 78,
      "outputs": [
        {
          "output_type": "stream",
          "name": "stdout",
          "text": [
            "mời nhập vào 1 số nguyên n :5\n",
            "5 x 1 = 5\n",
            "5 x 2 = 10\n",
            "5 x 3 = 15\n",
            "5 x 4 = 20\n",
            "5 x 5 = 25\n",
            "5 x 6 = 30\n",
            "5 x 7 = 35\n",
            "5 x 8 = 40\n",
            "5 x 9 = 45\n",
            "5 x 10 = 50\n"
          ]
        }
      ]
    },
    {
      "cell_type": "markdown",
      "metadata": {
        "id": "NMwA2vKyCbaX"
      },
      "source": [
        "Exercise 5: Display numbers from a list using loop"
      ]
    },
    {
      "cell_type": "code",
      "metadata": {
        "colab": {
          "base_uri": "https://localhost:8080/"
        },
        "id": "9Rwze5qIAbHR",
        "outputId": "961bc382-9175-4669-95e6-f546a650a56d"
      },
      "source": [
        "c=[9,8,7,6,5]\n",
        "for i in c:\n",
        "  print(i)"
      ],
      "execution_count": 79,
      "outputs": [
        {
          "output_type": "stream",
          "name": "stdout",
          "text": [
            "9\n",
            "8\n",
            "7\n",
            "6\n",
            "5\n"
          ]
        }
      ]
    },
    {
      "cell_type": "markdown",
      "metadata": {
        "id": "G6rQw6TfClZv"
      },
      "source": [
        "Exercise 6: Count the total number of digits in a number"
      ]
    },
    {
      "cell_type": "code",
      "metadata": {
        "id": "y1_oO8U7A362",
        "colab": {
          "base_uri": "https://localhost:8080/"
        },
        "outputId": "4559a39d-d497-464e-9413-71b7ba5ccce0"
      },
      "source": [
        "n = int(input(\"mời nhập số :\"))\n",
        "count = 0\n",
        "while (n > 0):\n",
        "  n = n//10\n",
        "  count = count + 1\n",
        "print (\"tổng các chữ số trong một số là : \",count)\n"
      ],
      "execution_count": 80,
      "outputs": [
        {
          "output_type": "stream",
          "name": "stdout",
          "text": [
            "mời nhập số :134\n",
            "tổng các chữ số trong một số là :  3\n"
          ]
        }
      ]
    },
    {
      "cell_type": "markdown",
      "metadata": {
        "id": "hXRRf9dHCtTg"
      },
      "source": [
        "Exercise 7: Print list in reverse order using a loop"
      ]
    },
    {
      "cell_type": "code",
      "metadata": {
        "colab": {
          "base_uri": "https://localhost:8080/"
        },
        "id": "r5usyR6NA35Z",
        "outputId": "e33ed209-4b20-475d-a8ec-d60ef56db327"
      },
      "source": [
        "b=[1,2,3,4,5]\n",
        "for i in reversed(b):\n",
        "  print(i)"
      ],
      "execution_count": 81,
      "outputs": [
        {
          "output_type": "stream",
          "name": "stdout",
          "text": [
            "5\n",
            "4\n",
            "3\n",
            "2\n",
            "1\n"
          ]
        }
      ]
    },
    {
      "cell_type": "markdown",
      "metadata": {
        "id": "UyLb0fIcCwku"
      },
      "source": [
        "Exercise 8: Display numbers from -10 to -1 using for loop"
      ]
    },
    {
      "cell_type": "code",
      "metadata": {
        "colab": {
          "base_uri": "https://localhost:8080/"
        },
        "id": "eOVPnVg_BOCI",
        "outputId": "5197d9bb-27f6-4290-db43-6e422204cf8e"
      },
      "source": [
        "for x in range(-10,0):\n",
        "  print(x)"
      ],
      "execution_count": 82,
      "outputs": [
        {
          "output_type": "stream",
          "name": "stdout",
          "text": [
            "-10\n",
            "-9\n",
            "-8\n",
            "-7\n",
            "-6\n",
            "-5\n",
            "-4\n",
            "-3\n",
            "-2\n",
            "-1\n"
          ]
        }
      ]
    },
    {
      "cell_type": "markdown",
      "metadata": {
        "id": "dNCAtvZlHKWa"
      },
      "source": [
        "Exercise 9: Use else block to display a message “Done” after successful execution of for loop"
      ]
    },
    {
      "cell_type": "code",
      "metadata": {
        "id": "plFw-Fph2Pak",
        "colab": {
          "base_uri": "https://localhost:8080/"
        },
        "outputId": "d7485904-2f12-4736-813b-47d2a4483b39"
      },
      "source": [
        "i=1\n",
        "while (i <= 7):\n",
        "  print(i)\n",
        "  i=i+1\n",
        "else:\n",
        "  print(\"Đã xong\")"
      ],
      "execution_count": 83,
      "outputs": [
        {
          "output_type": "stream",
          "name": "stdout",
          "text": [
            "1\n",
            "2\n",
            "3\n",
            "4\n",
            "5\n",
            "6\n",
            "7\n",
            "Đã xong\n"
          ]
        }
      ]
    },
    {
      "cell_type": "markdown",
      "metadata": {
        "id": "Mbk8yP08DOue"
      },
      "source": [
        "Exercise 10: Write a program to display all prime numbers within a range\n"
      ]
    },
    {
      "cell_type": "code",
      "metadata": {
        "colab": {
          "base_uri": "https://localhost:8080/"
        },
        "id": "wEycQ2gYBiS4",
        "outputId": "d8fd2cd4-9bd4-47ed-f70b-f0fdcfa638b3"
      },
      "source": [
        "a = int(input(\"nhập số nguyên tố mơ đầu là :\"))\n",
        "b = int(input(\"nhập số nguyên tố kết thúc la :\"))\n",
        "for s in range(a,b+1):\n",
        "  if (s > 1):\n",
        "    for x in range(2,s):\n",
        "      if (s % x == 0):\n",
        "        break\n",
        "    else:\n",
        "      print(s)"
      ],
      "execution_count": 84,
      "outputs": [
        {
          "output_type": "stream",
          "name": "stdout",
          "text": [
            "nhập số nguyên tố mơ đầu là :0\n",
            "nhập số nguyên tố kết thúc la :12\n",
            "2\n",
            "3\n",
            "5\n",
            "7\n",
            "11\n"
          ]
        }
      ]
    },
    {
      "cell_type": "markdown",
      "metadata": {
        "id": "gRVaaRxLJmxy"
      },
      "source": [
        "Exercise 11: Display Fibonacci series up to 10 terms"
      ]
    },
    {
      "cell_type": "code",
      "metadata": {
        "colab": {
          "base_uri": "https://localhost:8080/"
        },
        "id": "drtwyLS-JZC3",
        "outputId": "bab1ac87-1048-4850-e78e-2a20521f75db"
      },
      "source": [
        "n = 10\n",
        "n1, n2 = 0, 1\n",
        "dem = 0\n",
        "while dem < n:\n",
        "  print(n1,end=\" \")\n",
        "  n3 = n1 + n2\n",
        "  n1 = n2\n",
        "  n2 = n3\n",
        "  dem += 1"
      ],
      "execution_count": 85,
      "outputs": [
        {
          "output_type": "stream",
          "name": "stdout",
          "text": [
            "0 1 1 2 3 5 8 13 21 34 "
          ]
        }
      ]
    },
    {
      "cell_type": "markdown",
      "metadata": {
        "id": "R9I1DnEEDL4e"
      },
      "source": [
        "\n",
        "Exercise 12: Find the factorial of a given number"
      ]
    },
    {
      "cell_type": "code",
      "metadata": {
        "colab": {
          "base_uri": "https://localhost:8080/"
        },
        "id": "SsIBxeSlBpSv",
        "outputId": "d87f9ecf-b68a-4d15-dbfd-4bd938f4401c"
      },
      "source": [
        "i = int (input(\"nhập vào một số bất kỳ :\"))\n",
        "count = 1\n",
        "for j in range(2,i + 1):\n",
        "  count = count * j\n",
        "print(\"giai thừa của\",i,\"là:\",count)"
      ],
      "execution_count": 86,
      "outputs": [
        {
          "output_type": "stream",
          "name": "stdout",
          "text": [
            "nhập vào một số bất kỳ :6\n",
            "giai thừa của 6 là: 720\n"
          ]
        }
      ]
    },
    {
      "cell_type": "markdown",
      "metadata": {
        "id": "xk5S9rpwDE9u"
      },
      "source": [
        "Exercise 13: Reverse a given integer number"
      ]
    },
    {
      "cell_type": "code",
      "metadata": {
        "colab": {
          "base_uri": "https://localhost:8080/"
        },
        "id": "ir763IwCBr5I",
        "outputId": "46a29946-784c-4e3e-8f0e-8dfa02bf6093"
      },
      "source": [
        "i = int(input(\"nhập vào 1 số nguyên tố :\"))\n",
        "j=0\n",
        "while i != 0:\n",
        "  k = i % 10\n",
        "  j = j* 10 + k\n",
        "  i //= 10\n",
        "print(\"Số đảo ngược là: \",j)"
      ],
      "execution_count": 87,
      "outputs": [
        {
          "output_type": "stream",
          "name": "stdout",
          "text": [
            "nhập vào 1 số nguyên tố :234567\n",
            "Số đảo ngược là:  765432\n"
          ]
        }
      ]
    },
    {
      "cell_type": "markdown",
      "metadata": {
        "id": "gweYaxaLDBB-"
      },
      "source": [
        "\n",
        "Exercise 14: Use a loop to display elements from a given list present at odd index positions"
      ]
    },
    {
      "cell_type": "code",
      "metadata": {
        "colab": {
          "base_uri": "https://localhost:8080/"
        },
        "id": "iQDPJxa4B9rw",
        "outputId": "ff3a8653-4c35-42c8-e161-197e29aff222"
      },
      "source": [
        "list1 = [1,2,4,3,5]\n",
        "for i in list1:\n",
        "  if( i % 2 == 1):\n",
        "    print(i)"
      ],
      "execution_count": 88,
      "outputs": [
        {
          "output_type": "stream",
          "name": "stdout",
          "text": [
            "1\n",
            "3\n",
            "5\n"
          ]
        }
      ]
    },
    {
      "cell_type": "markdown",
      "metadata": {
        "id": "aavOSjAIC8h-"
      },
      "source": [
        "Exercise 15: Calculate the cube of all numbers from 1 to a given number"
      ]
    },
    {
      "cell_type": "code",
      "metadata": {
        "colab": {
          "base_uri": "https://localhost:8080/"
        },
        "id": "tojJREh-CAoI",
        "outputId": "4dc02c1b-a61e-4729-e6ff-1bd6305e1663"
      },
      "source": [
        "a = int(input(\"nhập vào 1 số nguyên tố :\"))\n",
        "for i in range(1,a+1):\n",
        "    print(\"lập phương của\",i,\"là:\",i**3)"
      ],
      "execution_count": 89,
      "outputs": [
        {
          "output_type": "stream",
          "name": "stdout",
          "text": [
            "nhập vào 1 số nguyên tố :4\n",
            "lập phương của 1 là: 1\n",
            "lập phương của 2 là: 8\n",
            "lập phương của 3 là: 27\n",
            "lập phương của 4 là: 64\n"
          ]
        }
      ]
    }
  ]
}