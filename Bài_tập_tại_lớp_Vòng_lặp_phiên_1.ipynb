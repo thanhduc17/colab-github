{
  "nbformat": 4,
  "nbformat_minor": 0,
  "metadata": {
    "colab": {
      "name": "Bài tập tại lớp - Vòng lặp - phiên 1.ipynb",
      "provenance": [],
      "authorship_tag": "ABX9TyOv91KpwZILjhaYN2bOHyZ4",
      "include_colab_link": true
    },
    "kernelspec": {
      "name": "python3",
      "display_name": "Python 3"
    },
    "language_info": {
      "name": "python"
    }
  },
  "cells": [
    {
      "cell_type": "markdown",
      "metadata": {
        "id": "view-in-github",
        "colab_type": "text"
      },
      "source": [
        "<a href=\"https://colab.research.google.com/github/thanhduc17/colab-github/blob/main/B%C3%A0i_t%E1%BA%ADp_t%E1%BA%A1i_l%E1%BB%9Bp_V%C3%B2ng_l%E1%BA%B7p_phi%C3%AAn_1.ipynb\" target=\"_parent\"><img src=\"https://colab.research.google.com/assets/colab-badge.svg\" alt=\"Open In Colab\"/></a>"
      ]
    },
    {
      "cell_type": "markdown",
      "metadata": {
        "id": "M_83GMJX_CKk"
      },
      "source": [
        "Exercise 1: Print First 10 natural numbers using while loop"
      ]
    },
    {
      "cell_type": "code",
      "metadata": {
        "colab": {
          "base_uri": "https://localhost:8080/"
        },
        "id": "x0PvE8Ht-9HY",
        "outputId": "64532acc-839b-44a6-8486-d39a431eddc2"
      },
      "source": [
        "count=0\n",
        "while(count<10):\n",
        "    print(count)\n",
        "    count=count+1"
      ],
      "execution_count": 1,
      "outputs": [
        {
          "output_type": "stream",
          "name": "stdout",
          "text": [
            "0\n",
            "1\n",
            "2\n",
            "3\n",
            "4\n",
            "5\n",
            "6\n",
            "7\n",
            "8\n",
            "9\n"
          ]
        }
      ]
    },
    {
      "cell_type": "markdown",
      "metadata": {
        "id": "GgY2dZon_PB6"
      },
      "source": [
        "\n",
        "Exercise 2: Print the following pattern\n",
        "\n",
        "5 4 3 2 1\n",
        "\n",
        "4 3 2 1\n",
        "\n",
        "3 2 1\n",
        "\n",
        "2 1\n",
        "\n",
        "1\n"
      ]
    },
    {
      "cell_type": "code",
      "metadata": {
        "colab": {
          "base_uri": "https://localhost:8080/"
        },
        "id": "3zywLVmk_g2K",
        "outputId": "50edd6c4-f2bd-4e64-e587-3a2f513ab541"
      },
      "source": [
        "count = 5\n",
        "for i in range(count,0,-1) :\n",
        "    for j in range(i,0,-1):\n",
        "        print(j,end=\" \")\n",
        "    print(\" \")"
      ],
      "execution_count": 13,
      "outputs": [
        {
          "output_type": "stream",
          "name": "stdout",
          "text": [
            "5 4 3 2 1  \n",
            "4 3 2 1  \n",
            "3 2 1  \n",
            "2 1  \n",
            "1  \n"
          ]
        }
      ]
    },
    {
      "cell_type": "markdown",
      "metadata": {
        "id": "TInr6lJS_ayi"
      },
      "source": [
        "Exercise 3: Calculate the sum of all numbers from 1 to a given number\n"
      ]
    },
    {
      "cell_type": "markdown",
      "metadata": {
        "id": "4N6togIWCIoQ"
      },
      "source": [
        "Exercise 4: Write a program to print multiplication table of a given number with natural numbers\n",
        "from 1 to 10."
      ]
    },
    {
      "cell_type": "code",
      "metadata": {
        "colab": {
          "base_uri": "https://localhost:8080/"
        },
        "id": "geFkr1yRAN5i",
        "outputId": "f8ddef32-a191-426d-c933-30d6fe2add0f"
      },
      "source": [
        "num = int(input(\"mời nhập vào 1 số nguyên n :\"))\n",
        "print(\"bảng cửu chương của\",num) \n",
        "for i in range(1,11): \n",
        "  print(num,\"x\",i,\"=\",num*i)"
      ],
      "execution_count": 8,
      "outputs": [
        {
          "output_type": "stream",
          "name": "stdout",
          "text": [
            "mời nhập vào 1 số nguyên n :5\n",
            "bảng cửu chương của 5\n",
            "5 x 1 = 5\n",
            "5 x 2 = 10\n",
            "5 x 3 = 15\n",
            "5 x 4 = 20\n",
            "5 x 5 = 25\n",
            "5 x 6 = 30\n",
            "5 x 7 = 35\n",
            "5 x 8 = 40\n",
            "5 x 9 = 45\n",
            "5 x 10 = 50\n"
          ]
        }
      ]
    },
    {
      "cell_type": "markdown",
      "metadata": {
        "id": "NMwA2vKyCbaX"
      },
      "source": [
        "Exercise 5: Display numbers from a list using loop"
      ]
    },
    {
      "cell_type": "code",
      "metadata": {
        "colab": {
          "base_uri": "https://localhost:8080/"
        },
        "id": "9Rwze5qIAbHR",
        "outputId": "b424c7cf-ad1b-4dd7-e450-7eb9b956bc07"
      },
      "source": [
        "c=[9,8,7,6,5]\n",
        "for i in c:\n",
        "  print(i)"
      ],
      "execution_count": 14,
      "outputs": [
        {
          "output_type": "stream",
          "name": "stdout",
          "text": [
            "9\n",
            "8\n",
            "7\n",
            "6\n",
            "5\n"
          ]
        }
      ]
    },
    {
      "cell_type": "markdown",
      "metadata": {
        "id": "G6rQw6TfClZv"
      },
      "source": [
        "Exercise 6: Count the total number of digits in a number"
      ]
    },
    {
      "cell_type": "code",
      "metadata": {
        "colab": {
          "base_uri": "https://localhost:8080/"
        },
        "id": "y1_oO8U7A362",
        "outputId": "942a6c8a-5c81-49df-d20d-07ad254c6410"
      },
      "source": [
        "a = int(input(\"mời nhap vào 1 số nguyên n :\"))\n",
        "count = 0\n",
        "while (a != 0): \n",
        "  a //= 10\n",
        "  count = count + 1\n",
        " \n",
        "print(\"Tổng các chữ số trong số đó là:\",count)"
      ],
      "execution_count": 15,
      "outputs": [
        {
          "output_type": "stream",
          "name": "stdout",
          "text": [
            "mời nhap vào 1 số nguyên n :12\n",
            "Tổng các chữ số trong số đó là: 2\n"
          ]
        }
      ]
    },
    {
      "cell_type": "markdown",
      "metadata": {
        "id": "hXRRf9dHCtTg"
      },
      "source": [
        "Exercise 7: Print list in reverse order using a loop"
      ]
    },
    {
      "cell_type": "code",
      "metadata": {
        "colab": {
          "base_uri": "https://localhost:8080/"
        },
        "id": "r5usyR6NA35Z",
        "outputId": "bcd28c6d-76cb-4875-dc04-a65dd20d905f"
      },
      "source": [
        "b=[1,2,3,4,5]\n",
        "print(\"in ngược lại\")\n",
        "for i in reversed(b):\n",
        "  print(i)"
      ],
      "execution_count": 17,
      "outputs": [
        {
          "output_type": "stream",
          "name": "stdout",
          "text": [
            "in ngược lại\n",
            "5\n",
            "4\n",
            "3\n",
            "2\n",
            "1\n"
          ]
        }
      ]
    },
    {
      "cell_type": "markdown",
      "metadata": {
        "id": "UyLb0fIcCwku"
      },
      "source": [
        "Exercise 8: Display numbers from -10 to -1 using for loop"
      ]
    },
    {
      "cell_type": "code",
      "metadata": {
        "colab": {
          "base_uri": "https://localhost:8080/"
        },
        "id": "eOVPnVg_BOCI",
        "outputId": "aa74b6a2-b519-48db-d04d-bd4b085c28c6"
      },
      "source": [
        "print(\"các số từ -10 đến -1 là:\")\n",
        "for x in range(-10,0):\n",
        "  print(x)"
      ],
      "execution_count": 18,
      "outputs": [
        {
          "output_type": "stream",
          "name": "stdout",
          "text": [
            "các số từ -10 đến -1 là:\n",
            "-10\n",
            "-9\n",
            "-8\n",
            "-7\n",
            "-6\n",
            "-5\n",
            "-4\n",
            "-3\n",
            "-2\n",
            "-1\n"
          ]
        }
      ]
    },
    {
      "cell_type": "markdown",
      "metadata": {
        "id": "Mbk8yP08DOue"
      },
      "source": [
        "Exercise 10: Write a program to display all prime numbers within a range\n"
      ]
    },
    {
      "cell_type": "code",
      "metadata": {
        "colab": {
          "base_uri": "https://localhost:8080/"
        },
        "id": "wEycQ2gYBiS4",
        "outputId": "c32b605b-c130-4fa1-9888-b183bf607d15"
      },
      "source": [
        "a = int(input(\"nhập số nguyên tố mơ đầu là :\"))\n",
        "b = int(input(\"nhập số nguyên tố kết thúc la :\"))\n",
        "for s in range(a,b+1):\n",
        "  if (s > 1):\n",
        "    for x in range(2,s):\n",
        "      if (s % x == 0):\n",
        "        break\n",
        "    else:\n",
        "      print(s)"
      ],
      "execution_count": 24,
      "outputs": [
        {
          "output_type": "stream",
          "name": "stdout",
          "text": [
            "nhập số nguyên tố mơ đầu là :2\n",
            "nhập số nguyên tố kết thúc la :23\n",
            "2\n",
            "3\n",
            "5\n",
            "7\n",
            "11\n",
            "13\n",
            "17\n",
            "19\n",
            "23\n"
          ]
        }
      ]
    },
    {
      "cell_type": "markdown",
      "metadata": {
        "id": "R9I1DnEEDL4e"
      },
      "source": [
        "\n",
        "Exercise 12: Find the factorial of a given number"
      ]
    },
    {
      "cell_type": "code",
      "metadata": {
        "colab": {
          "base_uri": "https://localhost:8080/"
        },
        "id": "SsIBxeSlBpSv",
        "outputId": "bd41a679-20b4-447a-9cbd-c7add469aa49"
      },
      "source": [
        "i = int (input(\"nhập vào một số bất kỳ :\"))\n",
        "count = 1\n",
        "for j in range(2,i + 1):\n",
        "  count = count * j\n",
        "print(\"giai thừa của\",i,\"là:\",count)"
      ],
      "execution_count": 25,
      "outputs": [
        {
          "output_type": "stream",
          "name": "stdout",
          "text": [
            "nhập vào một số bất kỳ :5\n",
            "giai thừa của 5 là: 120\n"
          ]
        }
      ]
    },
    {
      "cell_type": "markdown",
      "metadata": {
        "id": "xk5S9rpwDE9u"
      },
      "source": [
        "Exercise 13: Reverse a given integer number"
      ]
    },
    {
      "cell_type": "code",
      "metadata": {
        "colab": {
          "base_uri": "https://localhost:8080/"
        },
        "id": "ir763IwCBr5I",
        "outputId": "438c38fc-3701-41d1-f46f-4207010f5e30"
      },
      "source": [
        "n = int(input(\"nhập vào 1 số nguyên tố :\"))\n",
        "while (n > 0):\n",
        "   print(n % 10,end=\" \") \n",
        "   n = n // 10"
      ],
      "execution_count": 21,
      "outputs": [
        {
          "output_type": "stream",
          "name": "stdout",
          "text": [
            "nhập vào 1 số nguyên tố :65343\n",
            "3 4 3 5 6 "
          ]
        }
      ]
    },
    {
      "cell_type": "markdown",
      "metadata": {
        "id": "gweYaxaLDBB-"
      },
      "source": [
        "\n",
        "Exercise 14: Use a loop to display elements from a given list present at odd index positions"
      ]
    },
    {
      "cell_type": "code",
      "metadata": {
        "colab": {
          "base_uri": "https://localhost:8080/"
        },
        "id": "iQDPJxa4B9rw",
        "outputId": "da13724f-6803-421d-8188-4ea109b14a84"
      },
      "source": [
        "arr = [1,2,4,3,5]\n",
        "print(\"các phần tử chỉ mục lẻ :\")\n",
        "for i in arr:\n",
        "  if( i % 2 == 1):\n",
        "    print(i)"
      ],
      "execution_count": 22,
      "outputs": [
        {
          "output_type": "stream",
          "name": "stdout",
          "text": [
            "các phần tử chỉ mục lẻ :\n",
            "1\n",
            "3\n",
            "5\n"
          ]
        }
      ]
    },
    {
      "cell_type": "markdown",
      "metadata": {
        "id": "aavOSjAIC8h-"
      },
      "source": [
        "Exercise 15: Calculate the cube of all numbers from 1 to a given number"
      ]
    },
    {
      "cell_type": "code",
      "metadata": {
        "colab": {
          "base_uri": "https://localhost:8080/"
        },
        "id": "tojJREh-CAoI",
        "outputId": "c5a9b02d-da50-40be-bf8f-653665766976"
      },
      "source": [
        "a = int(input(\"nhập vào 1 số nguyên tố :\"))\n",
        "for i in range(1,a+1):\n",
        "    print(\"lập phương của\",i,\"là:\",i**3)"
      ],
      "execution_count": 23,
      "outputs": [
        {
          "output_type": "stream",
          "name": "stdout",
          "text": [
            "nhập vào 1 số nguyên tố :5\n",
            "lập phương của 1 là: 1\n",
            "lập phương của 2 là: 8\n",
            "lập phương của 3 là: 27\n",
            "lập phương của 4 là: 64\n",
            "lập phương của 5 là: 125\n"
          ]
        }
      ]
    }
  ]
}